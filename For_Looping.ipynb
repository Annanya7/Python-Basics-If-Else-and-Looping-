{
  "nbformat": 4,
  "nbformat_minor": 0,
  "metadata": {
    "colab": {
      "provenance": []
    },
    "kernelspec": {
      "name": "python3",
      "display_name": "Python 3"
    },
    "language_info": {
      "name": "python"
    }
  },
  "cells": [
    {
      "cell_type": "code",
      "execution_count": 4,
      "metadata": {
        "colab": {
          "base_uri": "https://localhost:8080/"
        },
        "id": "JvELVaFS-FwQ",
        "outputId": "ab285659-dd8a-4980-ed2f-5d773e860235"
      },
      "outputs": [
        {
          "output_type": "stream",
          "name": "stdout",
          "text": [
            "10\n",
            "9\n",
            "8\n",
            "7\n",
            "6\n",
            "5\n",
            "4\n",
            "3\n",
            "2\n",
            "1\n"
          ]
        }
      ],
      "source": [
        "for i in range(10,0,-1):\n",
        "  print(i)"
      ]
    },
    {
      "cell_type": "code",
      "source": [
        "for i in range(2,22,2):\n",
        "  print(i)"
      ],
      "metadata": {
        "colab": {
          "base_uri": "https://localhost:8080/"
        },
        "id": "fL2CUCSv-QUK",
        "outputId": "cb074b70-db2a-44c4-b4f0-cd494f417ddb"
      },
      "execution_count": 6,
      "outputs": [
        {
          "output_type": "stream",
          "name": "stdout",
          "text": [
            "2\n",
            "4\n",
            "6\n",
            "8\n",
            "10\n",
            "12\n",
            "14\n",
            "16\n",
            "18\n",
            "20\n"
          ]
        }
      ]
    },
    {
      "cell_type": "code",
      "source": [
        "for i in range(5,55,5):\n",
        "  print(i)"
      ],
      "metadata": {
        "colab": {
          "base_uri": "https://localhost:8080/"
        },
        "id": "W9qX7bGq-QWP",
        "outputId": "b73c4a15-dc94-494d-e0c5-770bbba7716b"
      },
      "execution_count": 7,
      "outputs": [
        {
          "output_type": "stream",
          "name": "stdout",
          "text": [
            "5\n",
            "10\n",
            "15\n",
            "20\n",
            "25\n",
            "30\n",
            "35\n",
            "40\n",
            "45\n",
            "50\n"
          ]
        }
      ]
    },
    {
      "cell_type": "code",
      "source": [
        "for i in range(2,20,2):\n",
        "  print(i)"
      ],
      "metadata": {
        "id": "TQoLds-5-QZb"
      },
      "execution_count": null,
      "outputs": []
    },
    {
      "cell_type": "code",
      "source": [
        "for i in range(1,23,2):\n",
        "  print(i)"
      ],
      "metadata": {
        "colab": {
          "base_uri": "https://localhost:8080/"
        },
        "id": "TOC7D7Md-QbE",
        "outputId": "1378807b-2d43-419f-b4c5-8c7be726df33"
      },
      "execution_count": 8,
      "outputs": [
        {
          "output_type": "stream",
          "name": "stdout",
          "text": [
            "1\n",
            "3\n",
            "5\n",
            "7\n",
            "9\n",
            "11\n",
            "13\n",
            "15\n",
            "17\n",
            "19\n",
            "21\n"
          ]
        }
      ]
    },
    {
      "cell_type": "code",
      "source": [
        "for i in range(1,7):\n",
        "  print(i**2)"
      ],
      "metadata": {
        "colab": {
          "base_uri": "https://localhost:8080/"
        },
        "id": "V33Os2op-Qev",
        "outputId": "f6319ab9-963d-486e-8cf0-c792a75504f1"
      },
      "execution_count": 9,
      "outputs": [
        {
          "output_type": "stream",
          "name": "stdout",
          "text": [
            "1\n",
            "4\n",
            "9\n",
            "16\n",
            "25\n",
            "36\n"
          ]
        }
      ]
    },
    {
      "cell_type": "code",
      "source": [
        "for i in range(1,7):\n",
        "  print(i**3)"
      ],
      "metadata": {
        "colab": {
          "base_uri": "https://localhost:8080/"
        },
        "id": "zhm0Qeh3-Qge",
        "outputId": "d7744a49-ed30-4424-8465-b8ca8122883b"
      },
      "execution_count": 10,
      "outputs": [
        {
          "output_type": "stream",
          "name": "stdout",
          "text": [
            "1\n",
            "8\n",
            "27\n",
            "64\n",
            "125\n",
            "216\n"
          ]
        }
      ]
    },
    {
      "cell_type": "code",
      "source": [
        "for i in range(1,7):\n",
        "  print((i**3)+1)"
      ],
      "metadata": {
        "colab": {
          "base_uri": "https://localhost:8080/"
        },
        "id": "F05jbRb7-QjU",
        "outputId": "714cc87a-44f5-40e2-cfc1-0bb719d8c10e"
      },
      "execution_count": 11,
      "outputs": [
        {
          "output_type": "stream",
          "name": "stdout",
          "text": [
            "2\n",
            "9\n",
            "28\n",
            "65\n",
            "126\n",
            "217\n"
          ]
        }
      ]
    },
    {
      "cell_type": "code",
      "source": [
        "for i in range(1,7):\n",
        "  print((i**2)-1)"
      ],
      "metadata": {
        "colab": {
          "base_uri": "https://localhost:8080/"
        },
        "id": "A1gLJqME-QlI",
        "outputId": "e2a668b9-d8a6-4501-bfed-6c895737c79e"
      },
      "execution_count": 12,
      "outputs": [
        {
          "output_type": "stream",
          "name": "stdout",
          "text": [
            "0\n",
            "3\n",
            "8\n",
            "15\n",
            "24\n",
            "35\n"
          ]
        }
      ]
    },
    {
      "cell_type": "code",
      "source": [
        "n=int(input())\n",
        "sum=0\n",
        "for i in range(1,n+1):\n",
        "  sum+=i\n",
        "print(sum)"
      ],
      "metadata": {
        "colab": {
          "base_uri": "https://localhost:8080/"
        },
        "id": "v9yeFWur-Qoj",
        "outputId": "b06af9cb-2585-4400-8f05-cb64d514fc5f"
      },
      "execution_count": 15,
      "outputs": [
        {
          "output_type": "stream",
          "name": "stdout",
          "text": [
            "3\n",
            "6\n"
          ]
        }
      ]
    },
    {
      "cell_type": "code",
      "source": [
        "# Check sum of even or odd numbers \n",
        "sume,sumo,n=0,0,int(input())\n",
        "for i in range(1,n+1):\n",
        "  if i%2==0:\n",
        "    sume+=i\n",
        "  else:\n",
        "    sumo+=i\n",
        "print(\"Sum of even numbers={} and Sum of odd numners ={}\".format(sume,sumo))"
      ],
      "metadata": {
        "colab": {
          "base_uri": "https://localhost:8080/"
        },
        "id": "6OOJaqI0-QqJ",
        "outputId": "c9d6c581-4f16-420f-842f-e160d22ef3e4"
      },
      "execution_count": 16,
      "outputs": [
        {
          "output_type": "stream",
          "name": "stdout",
          "text": [
            "10\n",
            "Sum of even numbers=30 and Sum of odd numners =25\n"
          ]
        }
      ]
    },
    {
      "cell_type": "code",
      "source": [
        "# For looping in string\n",
        "str=input()\n",
        "for ch in str:\n",
        "  print(ch)"
      ],
      "metadata": {
        "colab": {
          "base_uri": "https://localhost:8080/"
        },
        "id": "yALEnTKN-QtR",
        "outputId": "183afe3b-96d9-4495-bef4-7f09ea6b4d28"
      },
      "execution_count": 17,
      "outputs": [
        {
          "output_type": "stream",
          "name": "stdout",
          "text": [
            "ananya\n",
            "a\n",
            "n\n",
            "a\n",
            "n\n",
            "y\n",
            "a\n"
          ]
        }
      ]
    },
    {
      "cell_type": "code",
      "source": [
        "str=input()\n",
        "for ch in range(0,len(str)):\n",
        "  print(str[ch])"
      ],
      "metadata": {
        "colab": {
          "base_uri": "https://localhost:8080/"
        },
        "id": "R5Wxao1O-QvP",
        "outputId": "d7a72b70-53e7-466f-df0f-f75856d484e5"
      },
      "execution_count": 18,
      "outputs": [
        {
          "output_type": "stream",
          "name": "stdout",
          "text": [
            "ananya\n",
            "a\n",
            "n\n",
            "a\n",
            "n\n",
            "y\n",
            "a\n"
          ]
        }
      ]
    },
    {
      "cell_type": "code",
      "source": [
        "for i in range(1,5):\n",
        "  for j in range(1,6):\n",
        "    print(i,j,sep=\"\\t\")\n"
      ],
      "metadata": {
        "colab": {
          "base_uri": "https://localhost:8080/"
        },
        "id": "ZK169FP9CF4R",
        "outputId": "d0d7de96-5ab7-4e10-e407-7f286470065a"
      },
      "execution_count": 24,
      "outputs": [
        {
          "output_type": "stream",
          "name": "stdout",
          "text": [
            "1\t1\n",
            "1\t2\n",
            "1\t3\n",
            "1\t4\n",
            "1\t5\n",
            "2\t1\n",
            "2\t2\n",
            "2\t3\n",
            "2\t4\n",
            "2\t5\n",
            "3\t1\n",
            "3\t2\n",
            "3\t3\n",
            "3\t4\n",
            "3\t5\n",
            "4\t1\n",
            "4\t2\n",
            "4\t3\n",
            "4\t4\n",
            "4\t5\n"
          ]
        }
      ]
    },
    {
      "cell_type": "code",
      "source": [
        "# Print pattern\n",
        "for i in range(1,6):\n",
        "  for j in range(5,0,-1):\n",
        "    print(j,end=\" \")\n",
        "  print()"
      ],
      "metadata": {
        "colab": {
          "base_uri": "https://localhost:8080/"
        },
        "id": "WB4BFIVsECZb",
        "outputId": "6ae7f9d6-a167-4f88-9d79-1b4a5f613c15"
      },
      "execution_count": 3,
      "outputs": [
        {
          "output_type": "stream",
          "name": "stdout",
          "text": [
            "5 4 3 2 1 \n",
            "5 4 3 2 1 \n",
            "5 4 3 2 1 \n",
            "5 4 3 2 1 \n",
            "5 4 3 2 1 \n"
          ]
        }
      ]
    },
    {
      "cell_type": "code",
      "source": [
        "# Print pattern\n",
        "for i in range(1,6):\n",
        "  for j in range(1,6):\n",
        "    print(i,end=\" \")\n",
        "  print()"
      ],
      "metadata": {
        "colab": {
          "base_uri": "https://localhost:8080/"
        },
        "id": "IC3HBA15ECcA",
        "outputId": "bbd39baa-bf74-4d6b-e7fb-ae30a6dd191c"
      },
      "execution_count": 4,
      "outputs": [
        {
          "output_type": "stream",
          "name": "stdout",
          "text": [
            "1 1 1 1 1 \n",
            "2 2 2 2 2 \n",
            "3 3 3 3 3 \n",
            "4 4 4 4 4 \n",
            "5 5 5 5 5 \n"
          ]
        }
      ]
    },
    {
      "cell_type": "code",
      "source": [
        "# Print pattern\n",
        "for i in range(5,0,-1):\n",
        "  for j in range(1,6):\n",
        "    print(i,end=\" \")\n",
        "  print()"
      ],
      "metadata": {
        "colab": {
          "base_uri": "https://localhost:8080/"
        },
        "id": "f-uFqQO5CwIe",
        "outputId": "33708eb0-ab11-4e7a-e39e-c2f191428da6"
      },
      "execution_count": 7,
      "outputs": [
        {
          "output_type": "stream",
          "name": "stdout",
          "text": [
            "5 5 5 5 5 \n",
            "4 4 4 4 4 \n",
            "3 3 3 3 3 \n",
            "2 2 2 2 2 \n",
            "1 1 1 1 1 \n"
          ]
        }
      ]
    },
    {
      "cell_type": "code",
      "source": [],
      "metadata": {
        "id": "l9TEVjQQDAhZ"
      },
      "execution_count": null,
      "outputs": []
    },
    {
      "cell_type": "code",
      "source": [],
      "metadata": {
        "id": "dOIv7OvUECgY"
      },
      "execution_count": null,
      "outputs": []
    },
    {
      "cell_type": "code",
      "source": [],
      "metadata": {
        "id": "_SoIlLnmECiP"
      },
      "execution_count": null,
      "outputs": []
    },
    {
      "cell_type": "code",
      "source": [],
      "metadata": {
        "id": "cdvGTjfKECmF"
      },
      "execution_count": null,
      "outputs": []
    }
  ]
}