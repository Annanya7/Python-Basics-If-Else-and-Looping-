{
 "cells": [
  {
   "cell_type": "code",
   "execution_count": 8,
   "metadata": {},
   "outputs": [
    {
     "name": "stdout",
     "output_type": "stream",
     "text": [
      "Enter the decimal number12\n",
      "The binary number= 1100 \n"
     ]
    }
   ],
   "source": [
    "# Write a  program to convert decimal number to a  binary number.\n",
    "n=int(input(\"Enter the decimal number\"))\n",
    "b=\" \"\n",
    "while(n!=0):\n",
    "    rem=n%2\n",
    "    b=b+str(rem)\n",
    "    n=n//2\n",
    "print(\"The binary number=\",b[::-1])\n"
   ]
  },
  {
   "cell_type": "code",
   "execution_count": 1,
   "metadata": {},
   "outputs": [
    {
     "name": "stdout",
     "output_type": "stream",
     "text": [
      "Enter a binary number1100\n",
      "The decimal number is= 12\n"
     ]
    }
   ],
   "source": [
    "# Write a program to convert a binary number to a decimal number\n",
    "n=int(input(\"Enter a binary number\"))\n",
    "base=2\n",
    "sum=0\n",
    "c=0\n",
    "while(n!=0):\n",
    "    rem=n%10\n",
    "    if rem==0:\n",
    "        num=0\n",
    "    else:\n",
    "        num=(rem*(base**c))\n",
    "    sum=sum+num\n",
    "    c=c+1\n",
    "    n=n//10\n",
    "print(\"The decimal number is=\",sum)\n"
   ]
  },
  {
   "cell_type": "code",
   "execution_count": 4,
   "metadata": {},
   "outputs": [
    {
     "name": "stdout",
     "output_type": "stream",
     "text": [
      "Enter the decimal number22\n",
      "The binary number= 26 \n"
     ]
    }
   ],
   "source": [
    "# Write a  program to convert decimal number to a  octal number.\n",
    "n=int(input(\"Enter the decimal number\"))\n",
    "b=\" \"\n",
    "while(n!=0):\n",
    "    rem=n%8\n",
    "    b=b+str(rem)\n",
    "    n=n//8\n",
    "print(\"The binary number=\",b[::-1])"
   ]
  },
  {
   "cell_type": "code",
   "execution_count": 5,
   "metadata": {},
   "outputs": [
    {
     "name": "stdout",
     "output_type": "stream",
     "text": [
      "Enter the number172\n",
      "The decimal number is= 122\n"
     ]
    }
   ],
   "source": [
    "# Write a program to convert octal to decimal number system\n",
    "n=int(input(\"Enter the number\"))\n",
    "base=8\n",
    "sum=0\n",
    "c=0\n",
    "while(n!=0):\n",
    "    rem=n%10\n",
    "    if rem==0:\n",
    "        num=0\n",
    "    else:\n",
    "        num=(rem*(base**c))\n",
    "    sum=sum+num\n",
    "    c=c+1\n",
    "    n=n//10\n",
    "print(\"The decimal number is=\",sum)\n",
    "\n"
   ]
  },
  {
   "cell_type": "code",
   "execution_count": 7,
   "metadata": {},
   "outputs": [
    {
     "name": "stdout",
     "output_type": "stream",
     "text": [
      "Enter a decimal number26\n",
      "The hexadecimal number = 1A\n"
     ]
    }
   ],
   "source": [
    "# Write a program to convert decimal to hexadecimal number system\n",
    "n=int(input(\"Enter a decimal number\"))\n",
    "s=''\n",
    "while(n!=0):\n",
    "    rem=n%16\n",
    "    if rem>9:\n",
    "        if rem==10:\n",
    "            s=s+'A'\n",
    "        elif rem==10:\n",
    "            s=s+'B'\n",
    "        elif rem==10:\n",
    "            s=s+'C'\n",
    "        elif rem==10:\n",
    "            s=s+'D'\n",
    "        elif rem==10:\n",
    "            s=s+'E'\n",
    "        elif rem==10:\n",
    "            s=s+'F'\n",
    "    else:\n",
    "        s=s+str(rem)\n",
    "    n=n//16\n",
    "print(\"The hexadecimal number =\", s[::-1])"
   ]
  },
  {
   "cell_type": "code",
   "execution_count": 21,
   "metadata": {},
   "outputs": [
    {
     "name": "stdout",
     "output_type": "stream",
     "text": [
      "Enter a hexadecimal number1A\n",
      "10\n",
      "hi\n",
      "26\n",
      "The decimal number is= 26\n"
     ]
    }
   ],
   "source": [
    "# Write a program to convert hexadecimal to decimal number system\n",
    "n=input(\"Enter a hexadecimal number\")\n",
    "base=16\n",
    "sum=0\n",
    "c=0\n",
    "n=n[::-1]\n",
    "for rem in n:\n",
    "\n",
    "    if rem=='0':\n",
    "        num=0\n",
    "    elif rem<='9':\n",
    "        #print('hi')\n",
    "        num=(int(rem)*(base**c))\n",
    "   \n",
    "    elif rem=='A':\n",
    "            num=(10*(base**c))\n",
    "    elif rem=='B':\n",
    "            num=(11*(base**c))\n",
    "    elif rem=='C':\n",
    "            num=(12*(base**c))\n",
    "    elif rem=='D':\n",
    "            num=(13*(base**c))\n",
    "    elif rem=='E':\n",
    "            num=(14*(base**c))\n",
    "    elif rem=='F':\n",
    "            num=(15*(base**c))\n",
    "    sum=sum+int(num)\n",
    "    #print(sum)\n",
    "    c=c+1\n",
    "print(\"The decimal number is=\",sum)\n"
   ]
  },
  {
   "cell_type": "code",
   "execution_count": null,
   "metadata": {},
   "outputs": [],
   "source": []
  }
 ],
 "metadata": {
  "kernelspec": {
   "display_name": "Python 3",
   "language": "python",
   "name": "python3"
  },
  "language_info": {
   "codemirror_mode": {
    "name": "ipython",
    "version": 3
   },
   "file_extension": ".py",
   "mimetype": "text/x-python",
   "name": "python",
   "nbconvert_exporter": "python",
   "pygments_lexer": "ipython3",
   "version": "3.7.6"
  }
 },
 "nbformat": 4,
 "nbformat_minor": 4
}
