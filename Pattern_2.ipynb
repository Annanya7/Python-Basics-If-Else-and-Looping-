{
 "cells": [
  {
   "cell_type": "code",
   "execution_count": 1,
   "metadata": {},
   "outputs": [
    {
     "name": "stdout",
     "output_type": "stream",
     "text": [
      " \n",
      "*  \n",
      "* *  \n",
      "* * *  \n",
      "* * * *  \n",
      "* * * * *  \n"
     ]
    }
   ],
   "source": [
    "for i in range(0,6):\n",
    "    for j in range(0,i):\n",
    "        print(\"*\",end=\" \")\n",
    "    print(\" \")"
   ]
  },
  {
   "cell_type": "code",
   "execution_count": 11,
   "metadata": {},
   "outputs": [
    {
     "name": "stdout",
     "output_type": "stream",
     "text": [
      " \n",
      "A  \n",
      "A B  \n",
      "A B C  \n",
      "A B C D  \n",
      "A B C D E  \n"
     ]
    }
   ],
   "source": [
    "for i in range(65,71):\n",
    "    for j in range(65,i):\n",
    "        print(chr(j), end=\" \")\n",
    "    print(\" \")"
   ]
  },
  {
   "cell_type": "code",
   "execution_count": 23,
   "metadata": {},
   "outputs": [
    {
     "name": "stdout",
     "output_type": "stream",
     "text": [
      " \n",
      "A  \n",
      "B A  \n",
      "C B A  \n",
      "D C B A  \n",
      "E D C B A  \n"
     ]
    }
   ],
   "source": [
    "n=70\n",
    "for i in range(64,n):\n",
    "    for j in range(i,64,-1):\n",
    "        print(chr(j), end=\" \")\n",
    "    print(\" \")"
   ]
  },
  {
   "cell_type": "code",
   "execution_count": 29,
   "metadata": {},
   "outputs": [
    {
     "name": "stdout",
     "output_type": "stream",
     "text": [
      "1 1 1 1 1  \n",
      "2 2 2 2  \n",
      "3 3 3  \n",
      "4 4  \n",
      "5  \n"
     ]
    }
   ],
   "source": [
    "n=6\n",
    "for i in range(1,n):\n",
    "    for j in range(n,i,-1):\n",
    "        print(i,end=\" \")\n",
    "        j=j-1\n",
    "    print(\" \")    "
   ]
  },
  {
   "cell_type": "code",
   "execution_count": 18,
   "metadata": {},
   "outputs": [
    {
     "name": "stdout",
     "output_type": "stream",
     "text": [
      "5 4 3 2 1  \n",
      "5 4 3 2  \n",
      "5 4 3  \n",
      "5 4  \n",
      "5  \n"
     ]
    }
   ],
   "source": [
    "n=5\n",
    "for i in range(0,n):\n",
    "    for j in range(n,i,-1):\n",
    "        print(j,end=\" \")\n",
    "        j=j-1\n",
    "    print(\" \")"
   ]
  },
  {
   "cell_type": "code",
   "execution_count": 35,
   "metadata": {},
   "outputs": [
    {
     "name": "stdout",
     "output_type": "stream",
     "text": [
      "1 2 3 4 5  \n",
      "1 2 3 4  \n",
      "1 2 3  \n",
      "1 2  \n",
      "1  \n"
     ]
    }
   ],
   "source": [
    "n=6\n",
    "for i in range(1,n):\n",
    "    c=1\n",
    "    for j in range(n,i,-1):\n",
    "        print(c,end=\" \")\n",
    "        c=c+1\n",
    "        j=j-1\n",
    "    print(\" \")"
   ]
  },
  {
   "cell_type": "code",
   "execution_count": 43,
   "metadata": {},
   "outputs": [
    {
     "name": "stdout",
     "output_type": "stream",
     "text": [
      "1 3 5 7 9  \n",
      "1 3 5 7  \n",
      "1 3 5  \n",
      "1 3  \n",
      "1  \n"
     ]
    }
   ],
   "source": [
    "n=6\n",
    "for i in range(1,n):\n",
    "    c=1\n",
    "    for j in range(n,i,-1):\n",
    "        print(c,end=\" \")\n",
    "        c=c+2\n",
    "    print(\" \")"
   ]
  },
  {
   "cell_type": "code",
   "execution_count": 46,
   "metadata": {},
   "outputs": [
    {
     "name": "stdout",
     "output_type": "stream",
     "text": [
      "1 3 5 7 9  \n",
      "3 5 7 9  \n",
      "5 7 9  \n",
      "7 9  \n",
      "9  \n"
     ]
    }
   ],
   "source": [
    "n=6\n",
    "a=1\n",
    "for i in range(1,n):\n",
    "    c=a\n",
    "    for j in range(n,i,-1):\n",
    "        print(c,end=\" \")\n",
    "        c=c+2\n",
    "    a=a+2\n",
    "    print(\" \")"
   ]
  },
  {
   "cell_type": "code",
   "execution_count": 58,
   "metadata": {},
   "outputs": [
    {
     "name": "stdout",
     "output_type": "stream",
     "text": [
      "2  \n",
      "2 4 2  \n",
      "2 4 6 4 2  \n",
      "2 4 6 8 6 4 2  \n",
      "2 4 6 8 10 8 6 4 2  \n"
     ]
    }
   ],
   "source": [
    "# Right hand side \n",
    "n=14\n",
    "for i in range(2,n-2,2):\n",
    "    for j in range(2,i,2):\n",
    "        print(j, end=\" \")\n",
    "    for j in range(i,0,-2):\n",
    "        print(j, end =\" \")\n",
    "    print(\" \")\n",
    "# Left Hand side \n"
   ]
  },
  {
   "cell_type": "code",
   "execution_count": 2,
   "metadata": {},
   "outputs": [
    {
     "name": "stdout",
     "output_type": "stream",
     "text": [
      "1  \n",
      "2 3  \n",
      "4 5 6 7  \n",
      "8 9 1 2 3 4 5 6  \n",
      "7 8 9 1 2 3 4 5 6 7 8 9 1 2 3 4  \n"
     ]
    }
   ],
   "source": [
    "n=5\n",
    "c=1\n",
    "col=1\n",
    "for i in range(1,n+1):\n",
    "    for j in range(1,col+1):\n",
    "        print(c, end=\" \")\n",
    "        c=c+1\n",
    "        if c>9:\n",
    "            c=1\n",
    "    col*=2\n",
    "    print(\" \")"
   ]
  },
  {
   "cell_type": "code",
   "execution_count": null,
   "metadata": {},
   "outputs": [],
   "source": []
  },
  {
   "cell_type": "code",
   "execution_count": null,
   "metadata": {},
   "outputs": [],
   "source": []
  }
 ],
 "metadata": {
  "kernelspec": {
   "display_name": "Python 3",
   "language": "python",
   "name": "python3"
  },
  "language_info": {
   "codemirror_mode": {
    "name": "ipython",
    "version": 3
   },
   "file_extension": ".py",
   "mimetype": "text/x-python",
   "name": "python",
   "nbconvert_exporter": "python",
   "pygments_lexer": "ipython3",
   "version": "3.7.6"
  }
 },
 "nbformat": 4,
 "nbformat_minor": 4
}
