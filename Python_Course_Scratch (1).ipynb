{
  "nbformat": 4,
  "nbformat_minor": 0,
  "metadata": {
    "colab": {
      "provenance": []
    },
    "kernelspec": {
      "name": "python3",
      "display_name": "Python 3"
    },
    "language_info": {
      "name": "python"
    }
  },
  "cells": [
    {
      "cell_type": "code",
      "execution_count": null,
      "metadata": {
        "id": "IqMLGw_7YZxa"
      },
      "outputs": [],
      "source": []
    },
    {
      "cell_type": "markdown",
      "source": [
        "Difference btw C and Python \n",
        "* Its procedural \n",
        "* Shorter code \n",
        "* No inialisation \n",
        "* Dynamic Memory \n",
        "* Compatible with other interfaces \n",
        "\n",
        "\n"
      ],
      "metadata": {
        "id": "Mo7Rtli_TCsO"
      }
    },
    {
      "cell_type": "code",
      "source": [
        "# Conversion into Decimal Number System \n",
        "n=0O123\n",
        "print(int(n))\n",
        "n=0B101010\n",
        "print(int(n))\n",
        "n=0XAF43\n",
        "print(int(n))"
      ],
      "metadata": {
        "colab": {
          "base_uri": "https://localhost:8080/"
        },
        "id": "xuruSvg1UAbY",
        "outputId": "0e2a0f18-b709-4e2d-8b08-a985401b7ddb"
      },
      "execution_count": null,
      "outputs": [
        {
          "output_type": "stream",
          "name": "stdout",
          "text": [
            "83\n",
            "42\n",
            "44867\n"
          ]
        }
      ]
    },
    {
      "cell_type": "code",
      "source": [
        "# Convert into binary | decimal | hexadecimal \n",
        "n=100\n",
        "print(bin(n))\n",
        "print(hex(n))\n"
      ],
      "metadata": {
        "colab": {
          "base_uri": "https://localhost:8080/"
        },
        "id": "EQCmg77TUZ6W",
        "outputId": "ab26236b-15b3-42f2-f824-f22b2d02e1ba"
      },
      "execution_count": null,
      "outputs": [
        {
          "output_type": "stream",
          "name": "stdout",
          "text": [
            "0b1100100\n",
            "0x64\n",
            "100\n"
          ]
        }
      ]
    },
    {
      "cell_type": "markdown",
      "source": [
        "DAY2- Printing statements in Python "
      ],
      "metadata": {
        "id": "M5VSWYhK45LN"
      }
    },
    {
      "cell_type": "code",
      "source": [
        "# Adding and multiplication of two numbers \n",
        "a=int(input(\"Enter the number\"))\n",
        "b=int(input(\"Enter the number\"))\n",
        "s=a+b\n",
        "m=a*b\n",
        "# Printing in the same line \n",
        "print(\"The sum of two numbers is\",s,\"The multiplication of two numbers is=\",m)\n",
        "# Printing in different line \n",
        "print(\"The sum=\",s,\"\\n\",\"The multiplication=\",m)"
      ],
      "metadata": {
        "id": "-IflJzZLUPmu",
        "colab": {
          "base_uri": "https://localhost:8080/"
        },
        "outputId": "a3869d79-d388-4276-9410-9734a4b335f7"
      },
      "execution_count": 3,
      "outputs": [
        {
          "output_type": "stream",
          "name": "stdout",
          "text": [
            "Enter the number10\n",
            "Enter the number12\n",
            "The sum of two numbers is 22 The multiplication of two numbers is= 120\n",
            "The sum= 22 \n",
            " The multiplication= 120\n"
          ]
        }
      ]
    },
    {
      "cell_type": "markdown",
      "source": [
        "Separators\n",
        "*   sep=\" \"\n",
        "*   In the same line, the by default = space\n",
        "*   Can modify acc to ur need \n",
        "\n",
        "End\n",
        "*    end= \" \" \n",
        "*    Affects the next line to be printed.\n",
        "*    If end=\"\\n\", statement in the next line by default \n",
        "\n"
      ],
      "metadata": {
        "id": "gU12KoHm8q_M"
      }
    },
    {
      "cell_type": "code",
      "source": [
        "print(\"Hello\", \"Everyone\")\n",
        "print(\"Hello\", \"Everyone\", sep=\",\")\n",
        "print(\"Hello\",\"Everyone\",sep=\"\\t\", end=\" * \")\n",
        "print(\"My name is ananya\")\n"
      ],
      "metadata": {
        "colab": {
          "base_uri": "https://localhost:8080/"
        },
        "id": "mkmLC1ES9LPW",
        "outputId": "4519a413-1daa-41b6-d78a-4db27a775e52"
      },
      "execution_count": 12,
      "outputs": [
        {
          "output_type": "stream",
          "name": "stdout",
          "text": [
            "Hello Everyone\n",
            "Hello,Everyone\n",
            "Hello\tEveryone * My name is ananya\n"
          ]
        }
      ]
    },
    {
      "cell_type": "markdown",
      "source": [
        "Assignment Opertaors"
      ],
      "metadata": {
        "id": "Gfd_CHBh-G_d"
      }
    },
    {
      "cell_type": "code",
      "source": [
        "# Power of a number \n",
        "print(\"5 to the power 4 is written as\",5**4)\n",
        "# Unpacking of the values in the single line \n",
        "a,b,c=10,20,30\n",
        "print(\"a=\",a,\"b=\",b,\"c=\",c)\n",
        "# Unpacking taking the input values as well\n",
        "x,y,z=input(),input(),input()\n",
        "print(x,y,z)"
      ],
      "metadata": {
        "colab": {
          "base_uri": "https://localhost:8080/"
        },
        "id": "zMg26AiJ-GYZ",
        "outputId": "47b83e3c-e111-44ad-ee55-11cc6a569c55"
      },
      "execution_count": 19,
      "outputs": [
        {
          "output_type": "stream",
          "name": "stdout",
          "text": [
            "5 to the power 4 is written as 625\n",
            "a= 10 b= 20 c= 30\n",
            "100\n",
            "200\n",
            "300\n",
            "100 200 300\n"
          ]
        }
      ]
    },
    {
      "cell_type": "markdown",
      "source": [
        "Operators in Python\n",
        "\n",
        "*   Arithmetic: +,-,*,/,//,%,**\n",
        "*   Assignmnet: =,+=,-=, .....\n",
        "*   Relational: >,<,==,!=,<=,>=\n",
        "*   Logical: and , or , not \n",
        "*   Boolean: True , False \n",
        "*   Bitwise: &,|,^,<<,>>,~\n",
        "*   Unary Minus\n",
        "*   Membership and Identity \n",
        "\n"
      ],
      "metadata": {
        "id": "MI48LTK6Fzjw"
      }
    },
    {
      "cell_type": "code",
      "source": [
        "# ARITHEMETIC\n",
        "a,b=30,15\n",
        "print(\"Decimal Divison\", a/b)\n",
        "print(\"Integer Divison\", a//b)\n",
        "print(\"Remainder Divison\", a%b)"
      ],
      "metadata": {
        "colab": {
          "base_uri": "https://localhost:8080/"
        },
        "id": "zWP5VFVDFz44",
        "outputId": "467603ab-aed6-4715-980e-86c2c430155d"
      },
      "execution_count": 21,
      "outputs": [
        {
          "output_type": "stream",
          "name": "stdout",
          "text": [
            "Decimal Divison 2.0\n",
            "Integer Divison 2\n",
            "Remainder Divison 0\n"
          ]
        }
      ]
    },
    {
      "cell_type": "code",
      "source": [
        "# UNARY MINUS \n",
        "a=30\n",
        "b=-a\n",
        "c=-b\n",
        "print(a,b,c)"
      ],
      "metadata": {
        "colab": {
          "base_uri": "https://localhost:8080/"
        },
        "id": "d0sQltoUFz65",
        "outputId": "545b0121-d08b-463c-e54e-b544b72494e6"
      },
      "execution_count": 22,
      "outputs": [
        {
          "output_type": "stream",
          "name": "stdout",
          "text": [
            "30 -30 30\n"
          ]
        }
      ]
    },
    {
      "cell_type": "code",
      "source": [
        "# RELATIONAL OPERATORS \n",
        "a,b=10,20\n",
        "print(a>b , a<=b , a>=b, a==b , a!=b, sep=\"\\t\",end=\" ^ \")\n",
        "# CHAINED RELATIONAL OPERATORS \n",
        "x=15\n",
        "print(10<x<20)\n",
        "print(1<2>3<4)"
      ],
      "metadata": {
        "colab": {
          "base_uri": "https://localhost:8080/"
        },
        "id": "cSgHfu1zFz9g",
        "outputId": "7fe08950-ee7f-433f-b1bb-d60a2b763bc7"
      },
      "execution_count": 28,
      "outputs": [
        {
          "output_type": "stream",
          "name": "stdout",
          "text": [
            "False\tTrue\tFalse\tFalse\tTrue ^ True\n",
            "False\n"
          ]
        }
      ]
    },
    {
      "cell_type": "code",
      "source": [
        "# LOGICAL OPERATORS \n",
        "# AND : returns the second value \n",
        "# OR  : returns the first value \n",
        "# Or - 1st statement , if no condition otherwise true or false \n",
        "x=500\n",
        "y=200\n",
        "# or hence will give 500 \n",
        "print(x or y)\n",
        "print( not x)\n",
        "\n",
        "x,y,z=1,2,3\n",
        "if x<y and y<2:\n",
        "  print('yes')\n",
        "else:\n",
        "  print('no')\n",
        "if x<y or y<2:\n",
        "  print('yes')\n",
        "else:\n",
        "  print('no')"
      ],
      "metadata": {
        "colab": {
          "base_uri": "https://localhost:8080/"
        },
        "id": "-NAVWo_jFz_N",
        "outputId": "680d8a04-3a5b-4941-848d-dfbc6309db54"
      },
      "execution_count": 32,
      "outputs": [
        {
          "output_type": "stream",
          "name": "stdout",
          "text": [
            "500\n",
            "False\n",
            "no\n",
            "yes\n"
          ]
        }
      ]
    },
    {
      "cell_type": "code",
      "source": [
        "# BOOLEAN OPERATORS \n",
        "# AND : Both true then true \n",
        "# OR : One true then true \n",
        "a,b=True, False \n",
        "print(a and b, a or b , not a , not b , a and a , b or b , b and b)"
      ],
      "metadata": {
        "colab": {
          "base_uri": "https://localhost:8080/"
        },
        "id": "159iFPN78mvW",
        "outputId": "4796de6d-c38e-41e7-98ba-6765cc9bb5b3"
      },
      "execution_count": 34,
      "outputs": [
        {
          "output_type": "stream",
          "name": "stdout",
          "text": [
            "False True False True True False False\n"
          ]
        }
      ]
    },
    {
      "cell_type": "code",
      "source": [
        "# BITWISE OPERATORS \n",
        "# Converting a number into binary format\n",
        "n=45\n",
        "print(\"Binary of\",n,\"=\",bin(n))\n",
        "\n",
        "# BITWISE AND (&)\n",
        "x=10\n",
        "y=11\n",
        "print(x,y)\n",
        "print)"
      ],
      "metadata": {
        "colab": {
          "base_uri": "https://localhost:8080/"
        },
        "id": "MDp0G_ZA8mxC",
        "outputId": "272c7cc1-eae4-49df-be72-e12a173f45af"
      },
      "execution_count": 2,
      "outputs": [
        {
          "output_type": "stream",
          "name": "stdout",
          "text": [
            "Binary of 45 = 0b101101\n",
            "10 11\n",
            "10\n"
          ]
        }
      ]
    },
    {
      "cell_type": "code",
      "source": [
        "x=0b00001010\n",
        "y=0b00001011\n",
        "c=x&y\n",
        "print(c)"
      ],
      "metadata": {
        "colab": {
          "base_uri": "https://localhost:8080/"
        },
        "id": "BZigTmBQ8m1E",
        "outputId": "0380121d-3b4c-4bb2-f61d-ca47493e1887"
      },
      "execution_count": 47,
      "outputs": [
        {
          "output_type": "stream",
          "name": "stdout",
          "text": [
            "10\n"
          ]
        }
      ]
    },
    {
      "cell_type": "code",
      "source": [
        "# Calculate the area and perimenter of a rectangle \n",
        "l,b=int(input()),int(input())\n",
        "area,peri=l*b, 2*(l+b)\n",
        "print(\"The area=%f The perimeter=%f\" %(area,peri))"
      ],
      "metadata": {
        "colab": {
          "base_uri": "https://localhost:8080/"
        },
        "id": "71xDX-Q8U4qM",
        "outputId": "b514d5e3-e3cf-42f2-f328-a40caee5a65b"
      },
      "execution_count": 6,
      "outputs": [
        {
          "output_type": "stream",
          "name": "stdout",
          "text": [
            "10\n",
            "20\n",
            "The area=200.000000 The perimeter=60.000000\n"
          ]
        }
      ]
    },
    {
      "cell_type": "code",
      "source": [
        "# Sum mul subs div point quoteint remainder  % term\n",
        "a,b=int(input()),int(input())\n",
        "sum,mult,subs,div,fdiv,rem=a+b,a*b,a-b,a//b,a/b,a%b\n",
        "print(\"Sum=%f\\nMultiplication=%i\\nSubstraction=%i\\nDivision=%i\\nDecimal_Divison=%f\\nRemainder=%i \" %(sum,mult,subs,div,fdiv,rem))"
      ],
      "metadata": {
        "id": "Dfcb_HXSUPx6",
        "colab": {
          "base_uri": "https://localhost:8080/"
        },
        "outputId": "19308af1-38e1-4a3e-8851-32bf07fb115b"
      },
      "execution_count": 15,
      "outputs": [
        {
          "output_type": "stream",
          "name": "stdout",
          "text": [
            "12\n",
            "5\n",
            "Sum=17.000000\n",
            "Multiplication=60\n",
            "Substraction=7\n",
            "Division=2\n",
            "Decimal_Divison=2.400000\n",
            "Remainder=2 \n"
          ]
        }
      ]
    },
    {
      "cell_type": "code",
      "source": [
        "print(\"helo\",\"there\",sep=\"-\")"
      ],
      "metadata": {
        "colab": {
          "base_uri": "https://localhost:8080/"
        },
        "id": "b8UajnhxXPd9",
        "outputId": "f948853c-e457-4421-db64-42298d3b91e6"
      },
      "execution_count": 19,
      "outputs": [
        {
          "output_type": "stream",
          "name": "stdout",
          "text": [
            "helo-there\n"
          ]
        }
      ]
    },
    {
      "cell_type": "code",
      "source": [
        "# FORMAT STRING \n",
        "a=10\n",
        "b=20\n",
        "print(\"sum ={}\\nmultiplication={}\".format(a+b,a*b))"
      ],
      "metadata": {
        "colab": {
          "base_uri": "https://localhost:8080/"
        },
        "id": "C4fP238wXPfr",
        "outputId": "488a97a3-0c75-4f4e-c386-e43ddb9f7b67"
      },
      "execution_count": 25,
      "outputs": [
        {
          "output_type": "stream",
          "name": "stdout",
          "text": [
            "sum =30\n",
            "multiplication=200\n"
          ]
        }
      ]
    },
    {
      "cell_type": "code",
      "source": [
        "# Inputting values together \n",
        "a,b,c = [int(x) for x in input(\"Enter the number\").split('+')]\n",
        "print(a,b,c)"
      ],
      "metadata": {
        "colab": {
          "base_uri": "https://localhost:8080/"
        },
        "id": "FJOjXDqubJVZ",
        "outputId": "a2e74a76-538e-4ff0-de98-02d8d379205d"
      },
      "execution_count": 29,
      "outputs": [
        {
          "output_type": "stream",
          "name": "stdout",
          "text": [
            "Enter the number67+78+45\n",
            "67 78 45\n"
          ]
        }
      ]
    },
    {
      "cell_type": "code",
      "source": [
        "a =eval(input(\"enter number\"))\n",
        "print(a)"
      ],
      "metadata": {
        "colab": {
          "base_uri": "https://localhost:8080/"
        },
        "id": "t4iaGPXLbtP5",
        "outputId": "4486873b-d314-406e-ff68-dc767bcd34c2"
      },
      "execution_count": 33,
      "outputs": [
        {
          "output_type": "stream",
          "name": "stdout",
          "text": [
            "enter number90+67+45+67/5*7\n",
            "295.8\n"
          ]
        }
      ]
    },
    {
      "cell_type": "markdown",
      "source": [
        "CALCULATE THE SUM OF DIGITS OF A NUMBER "
      ],
      "metadata": {
        "id": "R6QyLDMRdE9J"
      }
    },
    {
      "cell_type": "code",
      "source": [
        "num=int(input(\"Enter a  number\"))\n",
        "sum=0\n",
        "while num!=0:\n",
        "  rem=num%10\n",
        "  sum+=rem\n",
        "  num=num//10\n",
        "print(\"The sum of digits of a number={}\".format(sum))\n"
      ],
      "metadata": {
        "colab": {
          "base_uri": "https://localhost:8080/"
        },
        "id": "mqdvoO_6cVas",
        "outputId": "c4540664-862c-45f2-ee13-c6bbb334b4bd"
      },
      "execution_count": 35,
      "outputs": [
        {
          "output_type": "stream",
          "name": "stdout",
          "text": [
            "Enter a  number478\n",
            "The sum of digits of a number=19\n"
          ]
        }
      ]
    },
    {
      "cell_type": "code",
      "source": [
        "num=476\n",
        "sum=0\n",
        "rem=num%10\n",
        "sum+=rem\n",
        "num=num//10\n",
        "rem=num%10\n",
        "sum+=rem\n",
        "num=num//10\n",
        "rem=num%10\n",
        "sum+=rem\n",
        "num//=10\n",
        "print(\"Sum of digits=\",sum)"
      ],
      "metadata": {
        "colab": {
          "base_uri": "https://localhost:8080/"
        },
        "id": "8JmAbmr4cVcq",
        "outputId": "1cf95ecf-f666-4874-da4f-3621a6e2a619"
      },
      "execution_count": 36,
      "outputs": [
        {
          "output_type": "stream",
          "name": "stdout",
          "text": [
            "Sum of digits= 17\n"
          ]
        }
      ]
    },
    {
      "cell_type": "code",
      "source": [
        "# REVERSE OF A NUMBER \n",
        "rev=0\n",
        "num=476\n",
        "rem=num%10\n",
        "rev=rev*10+rem\n",
        "num=num//10\n",
        "rem=num%10\n",
        "rev=rev*10+rem\n",
        "num=num//10\n",
        "rem=num%10\n",
        "rev=rev*10+rem\n",
        "num//=10\n",
        "print(\"Sum of digits=\",rev)"
      ],
      "metadata": {
        "colab": {
          "base_uri": "https://localhost:8080/"
        },
        "id": "_vPw9WrhcVhF",
        "outputId": "0031d41b-fa78-466f-940b-fbf2ea6d764a"
      },
      "execution_count": 38,
      "outputs": [
        {
          "output_type": "stream",
          "name": "stdout",
          "text": [
            "Sum of digits= 674\n"
          ]
        }
      ]
    },
    {
      "cell_type": "markdown",
      "source": [
        "IF ELSE CONDITIONS\n",
        " IF \n",
        "1. Used for more than two conditions \n",
        "2. Checks all the statements \n",
        "\n",
        "IF ELSE \n",
        "1. Used for two conditions \n",
        "2. faster as condition based\n",
        "            "
      ],
      "metadata": {
        "id": "rdxBSmaUXdBy"
      }
    },
    {
      "cell_type": "code",
      "source": [
        "# Check the angles of a triangle and check if it is valid or not \n",
        "a,b,c = [int(x) for x in input(\"Enter the angles\").split()]\n",
        "sum=a+b+c\n",
        "if sum==180:\n",
        "  print(\"The triangle is valid, as the sum=%i\" %sum)\n",
        "else:\n",
        "  print(\"The triangle is invalid as the sum of angles=%i\" %sum)"
      ],
      "metadata": {
        "colab": {
          "base_uri": "https://localhost:8080/"
        },
        "id": "pvEu4qKwcVl4",
        "outputId": "40bccec0-bfb0-44f2-b578-22c61077e4e2"
      },
      "execution_count": 1,
      "outputs": [
        {
          "output_type": "stream",
          "name": "stdout",
          "text": [
            "Enter the angles60 60 60\n",
            "The triangle is valid, as the sum=180\n"
          ]
        }
      ]
    },
    {
      "cell_type": "code",
      "source": [
        "# Doing with only if\n",
        "a,b,c = [int(x) for x in input(\"Enter the angles\").split()]\n",
        "sum=a+b+c\n",
        "if sum==180:\n",
        "  print(\"The trainagle is valid\")\n",
        "if sum!=180:\n",
        "  print(\"The triangle is inavlid \")"
      ],
      "metadata": {
        "colab": {
          "base_uri": "https://localhost:8080/"
        },
        "id": "4wXLS8_zcVnk",
        "outputId": "39ee86fc-c590-48b0-8b80-d4a15dc0e60f"
      },
      "execution_count": 2,
      "outputs": [
        {
          "output_type": "stream",
          "name": "stdout",
          "text": [
            "Enter the angles30 30 50\n",
            "The triangle is inavlid \n"
          ]
        }
      ]
    },
    {
      "cell_type": "code",
      "source": [
        "# Enter a number and check whether it s positive negative or zero \n",
        "a=int(input(\"Enter the number\"))\n",
        "if a>0:\n",
        "  print(\"The number %i is a positive number\" %a )\n",
        "if a<0:\n",
        "  print(\"The number %i is a negative number\" %a )\n",
        "if a==0:\n",
        "  print(\"The number %i is a zero\" %a )\n"
      ],
      "metadata": {
        "colab": {
          "base_uri": "https://localhost:8080/"
        },
        "id": "dSPmS1nLcVsE",
        "outputId": "b0bd6706-fc8d-4a6f-faab-82cfbb8a7c3a"
      },
      "execution_count": 3,
      "outputs": [
        {
          "output_type": "stream",
          "name": "stdout",
          "text": [
            "Enter the number-8\n",
            "The number -8 is a negative number\n"
          ]
        }
      ]
    },
    {
      "cell_type": "code",
      "source": [
        "# CALCULATE PROFIT OR LOSS\n",
        "sp,cp = [int(x) for x in input(\"Enter the number\").split()]\n",
        "if sp>cp:\n",
        "  profit=sp-cp\n",
        "  print(\"The profit=%i\" %profit)\n",
        "else:\n",
        "  loss=cp-sp\n",
        "  print(\"The loss =%i\" %loss)\n",
        "print(\"***************************************************************\")\n",
        "sp,cp = [int(x) for x in input(\"Enter the number\").split()]\n",
        "if sp>cp:\n",
        "  profit=sp-cp\n",
        "  print(\"The profit=%i\" %profit)\n",
        "if cp>sp:\n",
        "  loss=cp-sp\n",
        "  print(\"The loss =%i\" %loss)"
      ],
      "metadata": {
        "colab": {
          "base_uri": "https://localhost:8080/"
        },
        "id": "mJHqzW3aaAOA",
        "outputId": "7aa0645f-3bd3-4cd7-9d1e-27316275eb01"
      },
      "execution_count": 7,
      "outputs": [
        {
          "output_type": "stream",
          "name": "stdout",
          "text": [
            "Enter the number100 20\n",
            "The profit=80\n",
            "***************************************************************\n",
            "Enter the number120 140\n",
            "The loss =20\n"
          ]
        }
      ]
    },
    {
      "cell_type": "code",
      "source": [
        "# Check whether a number is even or odd \n",
        "a=int(input(\"Enter a number\"))\n",
        "if a%2==0:\n",
        "  print(\"%i is an even number\"%a)\n",
        "else:\n",
        "  print(\"%i is an odd number\"%a)\n",
        "\n",
        "print(\"*******************************************************\")\n",
        "a=int(input(\"Enter a number\"))\n",
        "if a%2==0:\n",
        "  print(\"%i is an even number\"%a)\n",
        "if a%2!=0:\n",
        "  print(\"%i is an odd number\"%a)\n",
        "  "
      ],
      "metadata": {
        "colab": {
          "base_uri": "https://localhost:8080/"
        },
        "id": "tL4Z_SeHa_dA",
        "outputId": "6b7759f6-9e31-4ea7-f84b-e328a53838ca"
      },
      "execution_count": 8,
      "outputs": [
        {
          "output_type": "stream",
          "name": "stdout",
          "text": [
            "Enter a number60\n",
            "60 is an even number\n",
            "*******************************************************\n",
            "Enter a number65\n",
            "65 is an odd number\n"
          ]
        }
      ]
    },
    {
      "cell_type": "code",
      "source": [
        "# Enter the bill amount and calcuate the discount rate \n",
        "bill=int(input(\"Enter the bill amount\"))\n",
        "if bill>50000:\n",
        "  d=0.05\n",
        "  bill-=bill*d\n",
        "  print(\"The bill=%i\"%bill)\n",
        "else:\n",
        "  d=0.02\n",
        "  bill-=bill*d\n",
        "  print(\"The bill=%i\"%bill)\n"
      ],
      "metadata": {
        "colab": {
          "base_uri": "https://localhost:8080/"
        },
        "id": "1_J2ALTtbmsX",
        "outputId": "a3eb4921-30e4-41cd-8618-1b1aae6578e0"
      },
      "execution_count": 9,
      "outputs": [
        {
          "output_type": "stream",
          "name": "stdout",
          "text": [
            "Enter the bill amount51000\n",
            "The bill=48450\n"
          ]
        }
      ]
    },
    {
      "cell_type": "code",
      "source": [
        "# Check whether an year is a leap year or not \n",
        "YR=int(input(\"Enter the year\"))\n",
        "if YR%4==0:\n",
        "  print(\"The year is leap year\")\n",
        "else:\n",
        "  print(\"The year is not a leap year\")"
      ],
      "metadata": {
        "colab": {
          "base_uri": "https://localhost:8080/"
        },
        "id": "FqAfID5Pcf2G",
        "outputId": "0bc1ee6a-1cfa-4902-9db0-5a675c8aedb2"
      },
      "execution_count": 14,
      "outputs": [
        {
          "output_type": "stream",
          "name": "stdout",
          "text": [
            "Enter the year89\n",
            "The year is not a leap year\n"
          ]
        }
      ]
    },
    {
      "cell_type": "code",
      "source": [
        "# Conversion of distance into kilometers \n",
        "d=float(input(\"Enter the distance in meter\"))\n",
        "print(\"The distance in kms=%f\"% (d*0.001))\n"
      ],
      "metadata": {
        "colab": {
          "base_uri": "https://localhost:8080/"
        },
        "id": "0lrzO01Zc0fX",
        "outputId": "b494aee8-b433-4e9a-ec80-f040dfbd8d83"
      },
      "execution_count": 19,
      "outputs": [
        {
          "output_type": "stream",
          "name": "stdout",
          "text": [
            "Enter the distance in meter3000\n",
            "The distance in kms=3.000000\n"
          ]
        }
      ]
    },
    {
      "cell_type": "code",
      "source": [
        "# Enter the age group of a person and check whether a person can vote or not \n",
        "age=int(input(\"Enter the age grp of a person \"))\n",
        "if age>=18:\n",
        "  print(\"A person can vote\")\n",
        "else:\n",
        "  print(\"A person cannot vote\")\n",
        "\n",
        "print(\"*****************************************************\")\n",
        "if age>18:\n",
        "  print(\"A person can vote\")\n",
        "if age<18:\n",
        "  print(\"A person cannot vote\")\n",
        "if age==18:\n",
        "  print(\"A person can vote\")\n"
      ],
      "metadata": {
        "colab": {
          "base_uri": "https://localhost:8080/"
        },
        "id": "FcJsp24Ifgiz",
        "outputId": "80442b07-6d49-420e-e7e0-c4b83440ae51"
      },
      "execution_count": 21,
      "outputs": [
        {
          "output_type": "stream",
          "name": "stdout",
          "text": [
            "Enter the age grp of a person 26\n",
            "A person can vote\n",
            "*****************************************************\n",
            "A person can vote\n"
          ]
        }
      ]
    },
    {
      "cell_type": "markdown",
      "source": [
        "NESTED ELSE IF "
      ],
      "metadata": {
        "id": "9_TvLy6QqaZ3"
      }
    },
    {
      "cell_type": "code",
      "source": [
        "# ENTER THE COORDINATES OF A GRAPH AND CHCK WHETHER THEY LIE ON X, Y PLANE OR X OR BY AXIS OR THE ORIGIN \n",
        "x,y=[int(x) for x in input(\"Enter the coordinates\").split()]\n",
        "if x==0:\n",
        "  if y==0:\n",
        "    print(\"Coordinates {} lie at the Origin\".format(x,y))\n",
        "  else:\n",
        "     print(\"Coordinates {} lie at the Y-axis\".format(x,y))\n",
        "else:\n",
        "   if y==0:\n",
        "    print(\"Coordinates {} lie at the X-axis\".format(x,y))\n",
        "   else:\n",
        "     print(\"Coordinates {} lie at the XY-plane\".format(x,y))"
      ],
      "metadata": {
        "colab": {
          "base_uri": "https://localhost:8080/"
        },
        "id": "JtcEi9B7qY9x",
        "outputId": "f4112627-fdb6-4f3e-a33b-d38cd8218c9d"
      },
      "execution_count": 3,
      "outputs": [
        {
          "output_type": "stream",
          "name": "stdout",
          "text": [
            "Enter the coordinates5 7\n",
            "Coordinates 5 lie at the XY-plane\n"
          ]
        }
      ]
    },
    {
      "cell_type": "code",
      "source": [
        "# Doing the same questions using elif ladder \n",
        "x,y=[int(x) for x in input(\"Enter the coordinates\").split()]\n",
        "if x==0:\n",
        "  if y==0:\n",
        "    print(\"Origin\")\n",
        "  else:\n",
        "    print(\"Y axis\")\n",
        "elif y==0:\n",
        "  if x!=0:\n",
        "    print(\"X axis\")\n",
        "  else:\n",
        "    "
      ],
      "metadata": {
        "id": "tuRYJH3YqY_h"
      },
      "execution_count": null,
      "outputs": []
    },
    {
      "cell_type": "code",
      "source": [
        "x,y=[int(x) for x in input(\"Enter the coordinates\").split()]\n",
        "if x==0:\n",
        "  if y==0:\n",
        "    print(\"origin\")\n",
        "  else:\n",
        "    print(\"Y axis\")\n",
        "elif y==0:\n",
        "  print(\"X axis\")\n",
        "else:\n",
        "  print(\"XY plane\")\n",
        "\n"
      ],
      "metadata": {
        "colab": {
          "base_uri": "https://localhost:8080/"
        },
        "id": "cHOEDPnPuprM",
        "outputId": "77ca51a9-12dc-4562-ab05-ca6be42c67a9"
      },
      "execution_count": 6,
      "outputs": [
        {
          "output_type": "stream",
          "name": "stdout",
          "text": [
            "Enter the coordinates0 8\n",
            "Y axis\n"
          ]
        }
      ]
    },
    {
      "cell_type": "code",
      "source": [
        "# Enter three number and check the greatest of the three number\n",
        "a,b,c=[int(x) for x in input(\"Enter the coordinates\").split()]\n",
        "if a>b:\n",
        "  if a>c:\n",
        "    print(\"a is greater\")\n",
        "  else:\n",
        "    print(\"c is greAter\")\n",
        "elif b>c:\n",
        "  print(\"b is greater\")\n",
        "else:\n",
        "  print(\"c is greater\")"
      ],
      "metadata": {
        "id": "70wsnOZbqZDi"
      },
      "execution_count": null,
      "outputs": []
    },
    {
      "cell_type": "code",
      "source": [
        "# Do the coordinate question using elif ladder and logical operators \n",
        "x,y=[int(x) for x in input().split()]\n",
        "if x==0 and y==0:\n",
        "  print(\"Origin\")\n",
        "elif x==0 and y!=0:\n",
        "  print(\"Y axis\")\n",
        "elif y==0 and x!=0:\n",
        "  print(\"X axis\")\n",
        "else:\n",
        "  print(\"XY plane \")"
      ],
      "metadata": {
        "colab": {
          "base_uri": "https://localhost:8080/"
        },
        "id": "yiqjmm3xqZFM",
        "outputId": "cfb1d94d-f672-48b3-dc0e-6cf392810979"
      },
      "execution_count": 13,
      "outputs": [
        {
          "output_type": "stream",
          "name": "stdout",
          "text": [
            "9 0\n",
            "X axis\n"
          ]
        }
      ]
    },
    {
      "cell_type": "code",
      "source": [
        "# CHECK FOR THE LEAP YEAR \n",
        "x=int(input())\n",
        "if ((x%100==0 and x%400==0) or (x%4==0 and x%100!=0)):\n",
        "  print(\"Leap year\")\n",
        "else:\n",
        "  print(\"INVALID\")"
      ],
      "metadata": {
        "colab": {
          "base_uri": "https://localhost:8080/"
        },
        "id": "ivRbXrTTqZJF",
        "outputId": "77ed4f90-afbd-4331-af60-9d0745d9420c"
      },
      "execution_count": 17,
      "outputs": [
        {
          "output_type": "stream",
          "name": "stdout",
          "text": [
            "1700\n",
            "INVALID\n"
          ]
        }
      ]
    },
    {
      "cell_type": "code",
      "source": [
        "# enter three sides of a triangle and chcek whetherthe triangle is an equilateral triangle or an isoceles triangle or a acsnle triagle \n",
        "a,b,c=[int(x) for x in input().split()]\n",
        "if a==b and a==c and b==c:\n",
        "  print(\"Equilateral triangle\")\n",
        "elif a==b or b==c or a==c:\n",
        "  print(\"Isoceles triangle\")\n",
        "else:\n",
        "  print(\"Scalene triangle\")"
      ],
      "metadata": {
        "colab": {
          "base_uri": "https://localhost:8080/"
        },
        "id": "_MRffXIe4bDK",
        "outputId": "f02d1f39-fbef-4595-d80d-69b076de9896"
      },
      "execution_count": 21,
      "outputs": [
        {
          "output_type": "stream",
          "name": "stdout",
          "text": [
            "44 66 54\n",
            "Scalene triangle\n"
          ]
        }
      ]
    },
    {
      "cell_type": "code",
      "source": [
        "# enter 3 sides of a triangle, and check whether te tri is valid or not \n",
        "# Note: the triangle is valid only if the sum of any two sides is always greater than the thord side of the triabgle \n",
        "a,b,c=[int(x) for x in input().split()]\n",
        "s_ab=a+b\n",
        "s_bc=b+c\n",
        "s_ca=c+a\n",
        "if s_ab>c or s_bc>a or s_ca>b:\n",
        "  print(\"Valid\")\n",
        "else:\n",
        "  print(\"Invalid\")"
      ],
      "metadata": {
        "colab": {
          "base_uri": "https://localhost:8080/"
        },
        "id": "TeY5FXm75rlO",
        "outputId": "94860ac8-4abf-4227-88f6-4e99ca85cc3e"
      },
      "execution_count": 22,
      "outputs": [
        {
          "output_type": "stream",
          "name": "stdout",
          "text": [
            "12 33 10\n",
            "Valid\n"
          ]
        }
      ]
    },
    {
      "cell_type": "code",
      "source": [
        "#Enter three sides of a triangle and check whether the tiangle is a right angle trianhle or not \n",
        "\n",
        "a,b,c=[int(x) for x in input().split()]\n",
        "if (a**2+b**2 == c**2) or  (b**2+c**2== a**2) or (a**2+c**2== b**2):\n",
        "  print(\"Its a right angle\")\n",
        "else:\n",
        "  print(\"Not a right angle \")"
      ],
      "metadata": {
        "colab": {
          "base_uri": "https://localhost:8080/"
        },
        "id": "uQDJmdZw5rs0",
        "outputId": "88285bbc-7fe0-48c4-e629-29fbbab84877"
      },
      "execution_count": 33,
      "outputs": [
        {
          "output_type": "stream",
          "name": "stdout",
          "text": [
            "3 4 5\n",
            "Its a right angle\n"
          ]
        }
      ]
    },
    {
      "cell_type": "code",
      "source": [
        " math.sqrt(a**2+b**2)"
      ],
      "metadata": {
        "colab": {
          "base_uri": "https://localhost:8080/"
        },
        "id": "clcFl38h5ruk",
        "outputId": "17dafe5b-a477-4a7e-894d-abdea85c7416"
      },
      "execution_count": 28,
      "outputs": [
        {
          "output_type": "execute_result",
          "data": {
            "text/plain": [
              "3.605551275463989"
            ]
          },
          "metadata": {},
          "execution_count": 28
        }
      ]
    }
  ]
}