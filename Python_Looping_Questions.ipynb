{
 "cells": [
  {
   "cell_type": "code",
   "execution_count": 2,
   "metadata": {},
   "outputs": [
    {
     "name": "stdout",
     "output_type": "stream",
     "text": [
      "enter the number till when the loop should be executed 10\n",
      "0\n",
      "1\n",
      "2\n",
      "3\n",
      "4\n",
      "5\n",
      "6\n",
      "7\n",
      "8\n",
      "9\n"
     ]
    }
   ],
   "source": [
    "# Write a  program to print all natural numbers from 1 to n. - using while loop\n",
    "n=int(input(\"enter the number till when the loop should be executed \"))\n",
    "i=0\n",
    "while(i<n):\n",
    "    print(i)\n",
    "    i=i+1"
   ]
  },
  {
   "cell_type": "code",
   "execution_count": 6,
   "metadata": {},
   "outputs": [
    {
     "name": "stdout",
     "output_type": "stream",
     "text": [
      "enter the number till when the loop should be executed 5\n",
      "5\n",
      "4\n",
      "3\n",
      "2\n",
      "1\n",
      "0\n"
     ]
    }
   ],
   "source": [
    "# Write a  program to print all natural numbers in reverse (from n to 1). - using while loop\n",
    "n=int(input(\"enter the number till when the loop should be executed \"))\n",
    "while(n>=0):\n",
    "    print(n)\n",
    "    n=n-1"
   ]
  },
  {
   "cell_type": "code",
   "execution_count": 7,
   "metadata": {},
   "outputs": [
    {
     "name": "stdout",
     "output_type": "stream",
     "text": [
      "a\n",
      "b\n",
      "c\n",
      "d\n",
      "e\n",
      "f\n",
      "g\n",
      "h\n",
      "i\n",
      "j\n",
      "k\n",
      "l\n",
      "m\n",
      "n\n",
      "o\n",
      "p\n",
      "q\n",
      "r\n",
      "s\n",
      "t\n",
      "u\n",
      "v\n",
      "w\n",
      "x\n",
      "y\n",
      "z\n"
     ]
    }
   ],
   "source": [
    "# Write a program to print all alphabets from a to z. - using while loop\n",
    "i=97\n",
    "while(i<=122):\n",
    "    print(chr(i))\n",
    "    i=i+1"
   ]
  },
  {
   "cell_type": "code",
   "execution_count": 1,
   "metadata": {},
   "outputs": [
    {
     "name": "stdout",
     "output_type": "stream",
     "text": [
      "2\n",
      "4\n",
      "6\n",
      "8\n",
      "10\n",
      "12\n",
      "14\n",
      "16\n",
      "18\n",
      "20\n",
      "22\n",
      "24\n",
      "26\n",
      "28\n",
      "30\n",
      "32\n",
      "34\n",
      "36\n",
      "38\n",
      "40\n",
      "42\n",
      "44\n",
      "46\n",
      "48\n",
      "50\n",
      "52\n",
      "54\n",
      "56\n",
      "58\n",
      "60\n",
      "62\n",
      "64\n",
      "66\n",
      "68\n",
      "70\n",
      "72\n",
      "74\n",
      "76\n",
      "78\n",
      "80\n",
      "82\n",
      "84\n",
      "86\n",
      "88\n",
      "90\n",
      "92\n",
      "94\n",
      "96\n",
      "98\n",
      "100\n"
     ]
    }
   ],
   "source": [
    "# Write a  program to print all even numbers between 1 to 100. - using while loop\n",
    "i=1\n",
    "while(i<=100):\n",
    "    if i%2==0:\n",
    "        print(i)\n",
    "    i=i+1"
   ]
  },
  {
   "cell_type": "code",
   "execution_count": 4,
   "metadata": {},
   "outputs": [
    {
     "name": "stdout",
     "output_type": "stream",
     "text": [
      "1\n",
      "3\n",
      "6\n",
      "10\n",
      "15\n",
      "21\n",
      "28\n",
      "36\n",
      "45\n",
      "55\n",
      "66\n",
      "78\n",
      "91\n",
      "105\n",
      "120\n",
      "136\n",
      "153\n",
      "171\n",
      "190\n",
      "210\n",
      "231\n",
      "253\n",
      "276\n",
      "300\n",
      "325\n",
      "351\n",
      "378\n",
      "406\n",
      "435\n",
      "465\n",
      "496\n",
      "528\n",
      "561\n",
      "595\n",
      "630\n",
      "666\n",
      "703\n",
      "741\n",
      "780\n",
      "820\n",
      "861\n",
      "903\n",
      "946\n",
      "990\n",
      "1035\n",
      "1081\n",
      "1128\n",
      "1176\n",
      "1225\n",
      "1275\n",
      "1326\n",
      "1378\n",
      "1431\n",
      "1485\n",
      "1540\n",
      "1596\n",
      "1653\n",
      "1711\n",
      "1770\n",
      "1830\n",
      "1891\n",
      "1953\n",
      "2016\n",
      "2080\n",
      "2145\n",
      "2211\n",
      "2278\n",
      "2346\n",
      "2415\n",
      "2485\n",
      "2556\n",
      "2628\n",
      "2701\n",
      "2775\n",
      "2850\n",
      "2926\n",
      "3003\n",
      "3081\n",
      "3160\n",
      "3240\n",
      "3321\n",
      "3403\n",
      "3486\n",
      "3570\n",
      "3655\n",
      "3741\n",
      "3828\n",
      "3916\n",
      "4005\n",
      "4095\n",
      "4186\n",
      "4278\n",
      "4371\n",
      "4465\n",
      "4560\n",
      "4656\n",
      "4753\n",
      "4851\n",
      "4950\n",
      "5050\n"
     ]
    }
   ],
   "source": [
    "# Write a  program to find sum of all natural numbers between 1 to n.\n",
    "i=1\n",
    "sum=0\n",
    "while(i<=100):\n",
    "    sum=sum+i\n",
    "    print(sum)\n",
    "    i=i+1"
   ]
  },
  {
   "cell_type": "code",
   "execution_count": 6,
   "metadata": {},
   "outputs": [
    {
     "name": "stdout",
     "output_type": "stream",
     "text": [
      "2\n",
      "6\n",
      "12\n",
      "20\n",
      "30\n",
      "42\n",
      "56\n",
      "72\n",
      "90\n",
      "110\n",
      "132\n",
      "156\n",
      "182\n",
      "210\n",
      "240\n",
      "272\n",
      "306\n",
      "342\n",
      "380\n",
      "420\n",
      "462\n",
      "506\n",
      "552\n",
      "600\n",
      "650\n",
      "702\n",
      "756\n",
      "812\n",
      "870\n",
      "930\n",
      "992\n",
      "1056\n",
      "1122\n",
      "1190\n",
      "1260\n",
      "1332\n",
      "1406\n",
      "1482\n",
      "1560\n",
      "1640\n",
      "1722\n",
      "1806\n",
      "1892\n",
      "1980\n",
      "2070\n",
      "2162\n",
      "2256\n",
      "2352\n",
      "2450\n",
      "2550\n"
     ]
    }
   ],
   "source": [
    "# Write a  program to find sum of all even natural numbers between 1 to n.\n",
    "i=1\n",
    "sum=0\n",
    "while(i<=100):\n",
    "    if i%2==0:\n",
    "        sum=sum+i\n",
    "        print(sum)\n",
    "    i=i+1"
   ]
  },
  {
   "cell_type": "markdown",
   "metadata": {},
   "source": []
  },
  {
   "cell_type": "code",
   "execution_count": null,
   "metadata": {},
   "outputs": [],
   "source": []
  },
  {
   "cell_type": "code",
   "execution_count": 2,
   "metadata": {},
   "outputs": [
    {
     "name": "stdout",
     "output_type": "stream",
     "text": [
      "enter the digit 666\n",
      "3\n"
     ]
    }
   ],
   "source": [
    "# Calculate the digits in a number\n",
    "# Digits in a number\n",
    "x=int(input(\"enter the digit \"))\n",
    "count=0\n",
    "while(x>0):\n",
    "    count=count+1\n",
    "    rem=x%10\n",
    "    x=x//10\n",
    "print(count)"
   ]
  },
  {
   "cell_type": "code",
   "execution_count": 1,
   "metadata": {},
   "outputs": [
    {
     "name": "stdout",
     "output_type": "stream",
     "text": [
      "enter the number677\n",
      "[6, 7, 7]\n",
      "3\n"
     ]
    }
   ],
   "source": [
    "x=int(input(\"enter the number\"))\n",
    "xx=list(map(int,str(x)))\n",
    "print(xx)\n",
    "print(len(xx))"
   ]
  },
  {
   "cell_type": "code",
   "execution_count": 8,
   "metadata": {},
   "outputs": [
    {
     "name": "stdout",
     "output_type": "stream",
     "text": [
      "enter the digit 1223\n",
      "The last digit of a number is= 3\n"
     ]
    }
   ],
   "source": [
    "# Calculate the first and last digit in a number \n",
    "x=int(input(\"enter the digit \"))\n",
    "count=0\n",
    "while(x>0):\n",
    "    rem=x%10\n",
    "    x=x//10\n",
    "print(\"The last digit of a number is=\",rem)\n",
    "\n",
    "\n",
    "\n"
   ]
  },
  {
   "cell_type": "code",
   "execution_count": 9,
   "metadata": {},
   "outputs": [
    {
     "name": "stdout",
     "output_type": "stream",
     "text": [
      "enter the number1345\n",
      "the first digit= 1\n",
      "the last digit= 5\n"
     ]
    }
   ],
   "source": [
    "# # Write a program to find first and last digit of a number part2 \n",
    "x=int(input(\"enter the number\"))\n",
    "xx=list(map(int,str(x)))\n",
    "print(\"the first digit=\",xx[0])\n",
    "print(\"the last digit=\",xx[-1])\n"
   ]
  },
  {
   "cell_type": "code",
   "execution_count": 10,
   "metadata": {},
   "outputs": [
    {
     "name": "stdout",
     "output_type": "stream",
     "text": [
      "enter the number123\n",
      "The sum of the digits of a number is = 6\n"
     ]
    }
   ],
   "source": [
    "# Write a pythin program to calculate sum of digits of a number.\n",
    "x=int(input(\"enter the number\"))\n",
    "sum=0\n",
    "while(x>0):\n",
    "    rem=x%10\n",
    "    sum=sum+rem\n",
    "    x=x//10\n",
    "print(\"The sum of the digits of a number is =\", sum)"
   ]
  },
  {
   "cell_type": "code",
   "execution_count": 11,
   "metadata": {},
   "outputs": [
    {
     "name": "stdout",
     "output_type": "stream",
     "text": [
      "enter the number12\n",
      "The sum of the digits of a number is = 6\n"
     ]
    }
   ],
   "source": [
    "# Write a program to calculate product of digits of a number.\n",
    "x=int(input(\"enter the number\"))\n",
    "prod=0\n",
    "while(x>0):\n",
    "    rem=x%10\n",
    "    prod=prod+rem\n",
    "    x=x//10\n",
    "print(\"The sum of the digits of a number is =\", sum)\n"
   ]
  },
  {
   "cell_type": "code",
   "execution_count": 13,
   "metadata": {},
   "outputs": [
    {
     "name": "stdout",
     "output_type": "stream",
     "text": [
      "enter the number4321\n",
      "The reverse of a number= 1234\n"
     ]
    }
   ],
   "source": [
    "# Write a python program to enter a number and print its reverse.\n",
    "x=int(input(\"enter the number\"))\n",
    "rev=0\n",
    "while(x>0):\n",
    "    rem=x%10\n",
    "    rev=rev*10+rem\n",
    "    x=x//10\n",
    "print(\"The reverse of a number=\",rev)"
   ]
  },
  {
   "cell_type": "code",
   "execution_count": 17,
   "metadata": {},
   "outputs": [
    {
     "name": "stdout",
     "output_type": "stream",
     "text": [
      "enter the number121\n",
      "The reverse of a number= 121\n",
      "The number is a palindrome number\n"
     ]
    }
   ],
   "source": [
    "# Write a Python program to check whether a number is palindrome or not.\n",
    "x=int(input(\"enter the number\"))\n",
    "num=x\n",
    "rev=0\n",
    "while(x>0):\n",
    "    rem=x%10\n",
    "    rev=rev*10+rem\n",
    "    x=x//10\n",
    "print(\"The reverse of a number=\",rev)\n",
    "if(num==rev):\n",
    "    print(\"The number is a palindrome number\")\n",
    "else:\n",
    "    print(\"The number is not a palindrome number\")"
   ]
  },
  {
   "cell_type": "code",
   "execution_count": 21,
   "metadata": {},
   "outputs": [
    {
     "name": "stdout",
     "output_type": "stream",
     "text": [
      "Enter the number344556\n",
      "[6, 5, 5, 4, 4, 3]\n",
      "Frequency of 3 is 1\n",
      "Frequency of 4 is 2\n",
      "Frequency of 5 is 2\n",
      "Frequency of 6 is 1\n"
     ]
    }
   ],
   "source": [
    "# Write a Python program to find frequency of each digit in a given integer.\n",
    "x=int(input(\"Enter the number\"))\n",
    "lst=[]\n",
    "\n",
    "while(x>0):\n",
    "    rem=x%10\n",
    "    lst.append(rem)\n",
    "    x=x//10 \n",
    "print(lst)\n",
    "s=set(lst)\n",
    "for i in s:\n",
    "    c=0\n",
    "    for j in range(0,len(lst)):\n",
    "        if i==lst[j]:\n",
    "            c=c+1\n",
    "    print(\"Frequency of\", i, \"is\",c)"
   ]
  },
  {
   "cell_type": "code",
   "execution_count": 23,
   "metadata": {},
   "outputs": [
    {
     "name": "stdout",
     "output_type": "stream",
     "text": [
      "Enter the digit to be entered123\n",
      "The last digit of the number 3\n",
      "The first Digit is 1\n"
     ]
    }
   ],
   "source": [
    "# Printing the last and first digit of a digit \n",
    "x=int(input(\"Enter the digit to be entered\"))\n",
    "l=x%10\n",
    "print(\"The last digit of the number\",l)\n",
    "while(x>0):\n",
    "    rem=x%10\n",
    "    x=x//10\n",
    "print(\"The first Digit is\",rem)"
   ]
  },
  {
   "cell_type": "code",
   "execution_count": 28,
   "metadata": {},
   "outputs": [
    {
     "name": "stdout",
     "output_type": "stream",
     "text": [
      "Enter the number to be transversed12233\n",
      "12233\n",
      "Frequency of  1 is 1\n",
      "Frequency of  2 is 2\n",
      "Frequency of  2 is 1\n",
      "Frequency of  3 is 2\n",
      "Frequency of  3 is 1\n"
     ]
    }
   ],
   "source": [
    "# You have to calculate the frequency of each digit \n",
    "x=int(input(\"Enter the number to be transversed\"))\n",
    "snum=str(x)\n",
    "print(snum)\n",
    "for i in range(0,len(snum)):\n",
    "    c=1\n",
    "    for j in range(i+1,len(snum)):\n",
    "        if snum[i]==snum[j]:\n",
    "            c=c+1\n",
    "    print(\"Frequency of \",snum[i],\"is\",c)"
   ]
  },
  {
   "cell_type": "code",
   "execution_count": 37,
   "metadata": {},
   "outputs": [
    {
     "name": "stdout",
     "output_type": "stream",
     "text": [
      "Enter the number to be transversed122333\n",
      "The original lst of elements [1, 2, 2, 3, 3, 3]\n",
      "The unique list of numbers= {1, 2, 3}\n",
      "The frequency of 1 is 1\n",
      "The frequency of 2 is 2\n",
      "The frequency of 3 is 3\n"
     ]
    }
   ],
   "source": [
    "x=int(input(\"Enter the number to be transversed\"))\n",
    "# CONVERTING INTO THE LIST\n",
    "lst=list(map(int,str(x)))\n",
    "print(\"The original lst of elements\",lst)\n",
    "s=set(lst)\n",
    "print(\"The unique list of numbers=\",s)\n",
    "for i in s:\n",
    "    c=0\n",
    "    for j in range(0,len(lst)):\n",
    "        if i==lst[j]:\n",
    "            c=c+1\n",
    "    print(\"The frequency of\",i, \"is\",c)"
   ]
  },
  {
   "cell_type": "code",
   "execution_count": 41,
   "metadata": {},
   "outputs": [
    {
     "name": "stdout",
     "output_type": "stream",
     "text": [
      "Enter the digit123\n",
      "One Two Three "
     ]
    }
   ],
   "source": [
    "# Write a Python program to enter a number and print it in words.\n",
    "x=int(input(\"Enter the digit\"))\n",
    "lst=list(map(int,str(x)))\n",
    "d={1:\"One\",2:\"Two\",3:\"Three\", 4:\"Four\", 5:\"Five\" ,6:\"Six\" , 7:\"Seven\",8:\"Eight\" ,9:\"Nine\" ,10:\"Ten\"}\n",
    "for i in lst:\n",
    "    print(d[i],end=' ')"
   ]
  },
  {
   "cell_type": "code",
   "execution_count": null,
   "metadata": {},
   "outputs": [],
   "source": [
    "  for i in d.keys():\n",
    "        if rem==i:\n",
    "            print(d.value)"
   ]
  },
  {
   "cell_type": "code",
   "execution_count": 2,
   "metadata": {},
   "outputs": [
    {
     "name": "stdout",
     "output_type": "stream",
     "text": [
      "Enter a number2\n",
      "Enter the power of a number3\n",
      "8\n"
     ]
    }
   ],
   "source": [
    "# Write a python program to find power of a number using for loop.\n",
    "x=int(input(\"Enter a number\"))\n",
    "prod=1\n",
    "p=int(input(\"Enter the power of a number\"))\n",
    "for i in range(1,p+1):\n",
    "    prod=prod*x\n",
    "print(prod)"
   ]
  },
  {
   "cell_type": "code",
   "execution_count": 4,
   "metadata": {},
   "outputs": [
    {
     "name": "stdout",
     "output_type": "stream",
     "text": [
      "enter the number12\n",
      "Factors= 1\n",
      "Factors= 2\n",
      "Factors= 3\n",
      "Factors= 4\n",
      "Factors= 6\n",
      "Factors= 12\n"
     ]
    }
   ],
   "source": [
    "# Write a  program to find all factors of a number.\n",
    "x=int(input(\"enter the number\"))\n",
    "for i in range(1,x+1):\n",
    "    if x%i==0:\n",
    "        print(\"Factors=\",i)"
   ]
  },
  {
   "cell_type": "code",
   "execution_count": null,
   "metadata": {},
   "outputs": [
    {
     "name": "stdout",
     "output_type": "stream",
     "text": [
      "enter a number5\n"
     ]
    }
   ],
   "source": [
    "# Write a  program to calculate factorial of a number.\n",
    "x=int(input(\"enter a number\"))\n",
    "prod=1\n",
    "i=x\n",
    "while(x>0):\n",
    "    prod=prod*i\n",
    "    i=i-1\n",
    "print(\"Factorial=\",prod)"
   ]
  },
  {
   "cell_type": "code",
   "execution_count": null,
   "metadata": {},
   "outputs": [],
   "source": []
  }
 ],
 "metadata": {
  "kernelspec": {
   "display_name": "Python 3",
   "language": "python",
   "name": "python3"
  },
  "language_info": {
   "codemirror_mode": {
    "name": "ipython",
    "version": 3
   },
   "file_extension": ".py",
   "mimetype": "text/x-python",
   "name": "python",
   "nbconvert_exporter": "python",
   "pygments_lexer": "ipython3",
   "version": "3.7.6"
  }
 },
 "nbformat": 4,
 "nbformat_minor": 4
}
