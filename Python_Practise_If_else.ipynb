{
 "cells": [
  {
   "cell_type": "code",
   "execution_count": 2,
   "metadata": {},
   "outputs": [
    {
     "name": "stdout",
     "output_type": "stream",
     "text": [
      "enter the year to be checked2004\n",
      "the given year2004 is a leap year\n"
     ]
    }
   ],
   "source": [
    "# Write a program to check for leap year\n",
    "x=int(input(\"enter the year to be checked\"))\n",
    "if (x%4==0) and (x%400==0) or (x%100!=0):\n",
    "    print(f'the given year{x} is a leap year')"
   ]
  },
  {
   "cell_type": "code",
   "execution_count": 10,
   "metadata": {},
   "outputs": [
    {
     "name": "stdout",
     "output_type": "stream",
     "text": [
      "enter the character to be checked#\n",
      "x is a special character\n"
     ]
    }
   ],
   "source": [
    "# Write a program to input any character and check whether it is alphabet, digit or special character.\n",
    "x=input(\"enter the character to be checked\")\n",
    "if x>='a' and x<='z' or x>='A' and x<='Z':\n",
    "    print(\"its an alphabet\")\n",
    "elif x>='0' and x<='9':\n",
    "    print(\"x is a digt\")\n",
    "else:\n",
    "    print(\"x is a special character\")\n",
    "\n"
   ]
  },
  {
   "cell_type": "code",
   "execution_count": 11,
   "metadata": {},
   "outputs": [
    {
     "name": "stdout",
     "output_type": "stream",
     "text": [
      "enter the characterA\n",
      "65 is in upper case\n"
     ]
    }
   ],
   "source": [
    "# Write a  program to check whether a character is uppercase or lowercase alphabet.\n",
    "x=input(\"enter the character\")\n",
    "y=ord(x)\n",
    "if y>=65 and y<=90:\n",
    "    print(f'{y} is in upper case')\n",
    "elif y>=97 and y<=122:\n",
    "    print(f'{y} is in lowercase')\n",
    "else:\n",
    "    print(\"its a special character\")"
   ]
  },
  {
   "cell_type": "code",
   "execution_count": 15,
   "metadata": {},
   "outputs": [
    {
     "name": "stdout",
     "output_type": "stream",
     "text": [
      "enter the day of the week6\n",
      "saturday\n"
     ]
    }
   ],
   "source": [
    "# Write a  program to input week number and print week day.\n",
    "x=int(input(\"enter the day of the week\"))\n",
    "if x==1:\n",
    "    print(\"Monday\")\n",
    "elif x==2:\n",
    "    print(\"Tuesday\")\n",
    "elif x==3:\n",
    "    print(\"Wednesday\")\n",
    "elif x==4:\n",
    "    print(\"Thursday\")\n",
    "elif x==5:\n",
    "    print(\"Friday\")\n",
    "elif x==6:\n",
    "    print(\"saturday\")\n",
    "elif x==7:\n",
    "    print(\"sunday\")\n",
    "else:\n",
    "    print(\"wrong output\")"
   ]
  },
  {
   "cell_type": "code",
   "execution_count": 16,
   "metadata": {},
   "outputs": [
    {
     "name": "stdout",
     "output_type": "stream",
     "text": [
      "enter the month number5\n",
      " The days are 31\n"
     ]
    }
   ],
   "source": [
    "# Write a C program to input month number and print number of days in that month.\n",
    "x=int(input(\"enter the month number\"))\n",
    "if x==1 or x==3 or x==5 or x==7 or x==8 or x==10 or x==12:\n",
    "    print(\" The days are 31\")\n",
    "elif x==2:\n",
    "    print(\"days are 29 or 28\")\n",
    "else:\n",
    "    print(\"days are 30\")"
   ]
  },
  {
   "cell_type": "code",
   "execution_count": 18,
   "metadata": {},
   "outputs": [
    {
     "name": "stdout",
     "output_type": "stream",
     "text": [
      "enter the side of a triangle20\n",
      "enter the side of a triangle80\n",
      "enter the side of a triangle80\n",
      "Its a valid triangle\n"
     ]
    }
   ],
   "source": [
    "# Write a  program to input angles of a triangle and check whether triangle is valid or not.\n",
    "a=int(input(\"enter the side of a triangle\"))\n",
    "b=int(input(\"enter the side of a triangle\"))\n",
    "c=int(input(\"enter the side of a triangle\"))\n",
    "sum=0\n",
    "sum=a+b+c\n",
    "if sum==180 and a>0 and b>0 and c>0:\n",
    "    print('Its a valid triangle')\n",
    "else:\n",
    "    print(\"it isnt a valid triangle\")"
   ]
  },
  {
   "cell_type": "code",
   "execution_count": 20,
   "metadata": {},
   "outputs": [
    {
     "name": "stdout",
     "output_type": "stream",
     "text": [
      "enter the side of a triangle5\n",
      "enter the side of a triangle6\n",
      "enter the side of a triangle4\n",
      "there are valid sides of a triangle\n"
     ]
    }
   ],
   "source": [
    "# Write a  program to input all sides of a triangle and check whether triangle is valid or not.\n",
    "a=int(input(\"enter the side of a triangle\"))\n",
    "b=int(input(\"enter the side of a triangle\"))\n",
    "c=int(input(\"enter the side of a triangle\"))\n",
    "d=a+b\n",
    "e=b+c\n",
    "f=c+a\n",
    "if c<d or a<e or b<f:\n",
    "    print(\"there are valid sides of a triangle\")\n",
    "    \n"
   ]
  },
  {
   "cell_type": "code",
   "execution_count": 22,
   "metadata": {},
   "outputs": [
    {
     "name": "stdout",
     "output_type": "stream",
     "text": [
      "enter the side of a triangle60\n",
      "enter the side of a triangle60\n",
      "enter the side of a triangle60\n",
      "equlateral triangle\n"
     ]
    }
   ],
   "source": [
    "# Write a  program to check whether the triangle is equilateral, isosceles or scalene triangle\n",
    "a=int(input(\"enter the side of a triangle\"))\n",
    "b=int(input(\"enter the side of a triangle\"))\n",
    "c=int(input(\"enter the side of a triangle\"))\n",
    "if a==b and a==c and b==c:\n",
    "    print(\"equlateral triangle\")\n",
    "elif a==b or b==c or c==a:\n",
    "    print(\"isoceles triangle\")\n",
    "else:\n",
    "    print(\"scalene\")"
   ]
  },
  {
   "cell_type": "code",
   "execution_count": null,
   "metadata": {},
   "outputs": [],
   "source": []
  },
  {
   "cell_type": "code",
   "execution_count": 24,
   "metadata": {},
   "outputs": [
    {
     "name": "stdout",
     "output_type": "stream",
     "text": [
      "enter the basic salary of an employee9000\n",
      "the gross salary = 18000.0\n"
     ]
    }
   ],
   "source": [
    "# Write a  program to input basic salary of an employee and calculate its Gross salary according to following:\n",
    "gross=0\n",
    "sal=int(input(\"enter the basic salary of an employee\"))\n",
    "if sal<=10000:\n",
    "    hra=sal*0.20\n",
    "    da=sal*0.80\n",
    "elif sal<=20000:\n",
    "    hra=sal*0.25\n",
    "    da=sal*0.90\n",
    "elif sal>20000:\n",
    "    hra=sal*0.30\n",
    "    da=sal*0.95\n",
    "gross=sal+hra+da\n",
    "print(\"the gross salary =\", gross)"
   ]
  },
  {
   "cell_type": "code",
   "execution_count": null,
   "metadata": {},
   "outputs": [],
   "source": []
  }
 ],
 "metadata": {
  "kernelspec": {
   "display_name": "Python 3",
   "language": "python",
   "name": "python3"
  },
  "language_info": {
   "codemirror_mode": {
    "name": "ipython",
    "version": 3
   },
   "file_extension": ".py",
   "mimetype": "text/x-python",
   "name": "python",
   "nbconvert_exporter": "python",
   "pygments_lexer": "ipython3",
   "version": "3.7.6"
  }
 },
 "nbformat": 4,
 "nbformat_minor": 4
}
