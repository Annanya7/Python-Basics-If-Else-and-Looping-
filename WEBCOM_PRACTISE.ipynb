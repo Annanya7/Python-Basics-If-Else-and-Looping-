{
 "cells": [
  {
   "cell_type": "code",
   "execution_count": 6,
   "metadata": {},
   "outputs": [
    {
     "name": "stdout",
     "output_type": "stream",
     "text": [
      "Enter the units350\n",
      "1500\n"
     ]
    }
   ],
   "source": [
    "n=int(input(\"Enter the units\"))\n",
    "if(n>=1 and n<=100):\n",
    "    amt=0\n",
    "if(n>100 and n<= 200):\n",
    "    amt=(n-100)*5\n",
    "if(n>200):\n",
    "    amt=(n-200)*10\n",
    "    print(a)"
   ]
  },
  {
   "cell_type": "code",
   "execution_count": 9,
   "metadata": {},
   "outputs": [
    {
     "name": "stdout",
     "output_type": "stream",
     "text": [
      "Enter the number300\n",
      "divisible by 3\n"
     ]
    }
   ],
   "source": [
    "#last digit of a number \n",
    "n=int(input(\"Enter the number\"))\n",
    "n=n%10;\n",
    "if(n%3==0):\n",
    "    print(\"divisible by 3\")\n",
    "    "
   ]
  },
  {
   "cell_type": "code",
   "execution_count": 11,
   "metadata": {},
   "outputs": [
    {
     "name": "stdout",
     "output_type": "stream",
     "text": [
      "Enter the marks81\n",
      "B\n"
     ]
    }
   ],
   "source": [
    "n=int(input(\"Enter the marks\"))\n",
    "if(n>90):\n",
    "    print(\"A\")\n",
    "elif(n>80 and n<=90):\n",
    "    print(\"B\")\n",
    "elif(n>=60 and n<=80):\n",
    "    print(\"C\")\n",
    "elif(n<60):\n",
    "    print(\"D\")"
   ]
  },
  {
   "cell_type": "code",
   "execution_count": 12,
   "metadata": {},
   "outputs": [
    {
     "name": "stdout",
     "output_type": "stream",
     "text": [
      "Enter the price30000\n",
      "31500.0\n"
     ]
    }
   ],
   "source": [
    "n=int(input(\"Enter the price\"))\n",
    "if(n>100000):\n",
    "    amt=(1+15/100)*n\n",
    "if(n>50000 and n<=100000):\n",
    "    amt=(1+10/100)*n\n",
    "if(n<=50000):\n",
    "    amt=(1+5/100)*n\n",
    "print(amt)\n"
   ]
  },
  {
   "cell_type": "code",
   "execution_count": 15,
   "metadata": {},
   "outputs": [
    {
     "name": "stdout",
     "output_type": "stream",
     "text": [
      "Enter the year3000\n",
      "is leap 3000\n"
     ]
    }
   ],
   "source": [
    "#leap year\n",
    "n=int(input(\"Enter the year\"))\n",
    "if(n%100==0 and n%400==0):\n",
    "    print(\"is leap\",n)\n",
    "elif(n%4==0):\n",
    "    print(\"is leap\",n)\n",
    "    "
   ]
  },
  {
   "cell_type": "code",
   "execution_count": 24,
   "metadata": {},
   "outputs": [
    {
     "name": "stdout",
     "output_type": "stream",
     "text": [
      "Enter the number22\n"
     ]
    }
   ],
   "source": [
    "# 3 digit number\n",
    "c=0\n",
    "n=int(input(\"Enter the number\"))\n",
    "while(n!=0):\n",
    "    rem=n%10\n",
    "    c=c+1\n",
    "    n=n/10\n",
    "if(c==3):\n",
    "    print(\"3 didgit \")"
   ]
  },
  {
   "cell_type": "code",
   "execution_count": 26,
   "metadata": {},
   "outputs": [
    {
     "name": "stdout",
     "output_type": "stream",
     "text": [
      "Enter the number22\n",
      "not \n"
     ]
    }
   ],
   "source": [
    "n=input(\"Enter the number\")\n",
    "l=len(n)\n",
    "if(int(l)==3):\n",
    "    print(\"3 digit\")\n",
    "else:\n",
    "    print(\"not \")"
   ]
  },
  {
   "cell_type": "code",
   "execution_count": 27,
   "metadata": {},
   "outputs": [],
   "source": [
    "# prime\n"
   ]
  },
  {
   "cell_type": "code",
   "execution_count": 33,
   "metadata": {},
   "outputs": [
    {
     "name": "stdout",
     "output_type": "stream",
     "text": [
      "Enter the number2\n",
      "Enter the number3\n",
      "Enter the number3\n",
      "iso\n"
     ]
    }
   ],
   "source": [
    "#check which triangle ?\n",
    "s1=int(input(\"Enter the number\"))\n",
    "s2=int(input(\"Enter the number\"))\n",
    "s3=int(input(\"Enter the number\"))\n",
    "if(s1==s2 and s2==s3):\n",
    "    print(\"Equi\")\n",
    "if(s1==s2):\n",
    "    if(s2!=s3):\n",
    "        print(\"isoceles\")\n",
    "elif(s1==s3 and s3!=s2):\n",
    "    print(\"iso\")\n",
    "elif(s2==s3 and s3!=s1):\n",
    "    print(\"iso\")\n",
    "    \n",
    "else:\n",
    "    print(\"scaler\")"
   ]
  },
  {
   "cell_type": "code",
   "execution_count": null,
   "metadata": {},
   "outputs": [],
   "source": [
    "#First 100 Units     :  Free\n",
    "\n",
    "#Next 200 Units      :  Rs 2 per day.\n",
    "\n",
    "#Above 300 Units    :  Rs 5 per day.\n",
    "\n",
    "#if number of unit is 500 then total bill = 0 +400 + 1000 = 1400\n"
   ]
  },
  {
   "cell_type": "code",
   "execution_count": 4,
   "metadata": {},
   "outputs": [
    {
     "name": "stdout",
     "output_type": "stream",
     "text": [
      "* * * * *  \n",
      "* * * * *  \n",
      "* * * * *  \n",
      "* * * * *  \n",
      "* * * * *  \n"
     ]
    }
   ],
   "source": [
    "for i in range(1,6):\n",
    "    for j in range(1,6):\n",
    "        print(\"*\", end=\" \")\n",
    "    print(\" \")\n",
    "    "
   ]
  },
  {
   "cell_type": "code",
   "execution_count": 9,
   "metadata": {},
   "outputs": [
    {
     "name": "stdout",
     "output_type": "stream",
     "text": [
      "* * * * *  \n",
      "*       *  \n",
      "*       *  \n",
      "*       *  \n",
      "* * * * *  \n"
     ]
    }
   ],
   "source": [
    "for i in range(1,6):\n",
    "    for j in range(1,6):\n",
    "        if(i==1 or i==5 ) or(j==1 or j==5):\n",
    "            print(\"*\",end=\" \")\n",
    "        else:\n",
    "            print(\" \", end=\" \")\n",
    "    print(\" \")"
   ]
  },
  {
   "cell_type": "code",
   "execution_count": 10,
   "metadata": {},
   "outputs": [
    {
     "name": "stdout",
     "output_type": "stream",
     "text": [
      "1 1 1 1 1  \n",
      "2 2 2 2 2  \n",
      "3 3 3 3 3  \n",
      "4 4 4 4 4  \n",
      "5 5 5 5 5  \n"
     ]
    }
   ],
   "source": [
    "for i in range(1,6):\n",
    "    for j in range(1,6):\n",
    "        print(i,end=\" \")\n",
    "    print(\" \")"
   ]
  },
  {
   "cell_type": "code",
   "execution_count": 11,
   "metadata": {},
   "outputs": [
    {
     "name": "stdout",
     "output_type": "stream",
     "text": [
      "0 1 0 1 0  \n",
      "1 0 1 0 1  \n",
      "0 1 0 1 0  \n",
      "1 0 1 0 1  \n",
      "0 1 0 1 0  \n"
     ]
    }
   ],
   "source": [
    "for i in range(1,6):\n",
    "    for j in range(1,6):\n",
    "        if (i+j)%2==0:\n",
    "            print(\"0\",end=\" \")\n",
    "        else:\n",
    "            print(\"1\",end=\" \")\n",
    "    print(\" \")\n",
    "            "
   ]
  },
  {
   "cell_type": "code",
   "execution_count": 12,
   "metadata": {},
   "outputs": [
    {
     "name": "stdout",
     "output_type": "stream",
     "text": [
      "    *      \n",
      "    *      \n",
      "* * * * *  \n",
      "    *      \n",
      "    *      \n"
     ]
    }
   ],
   "source": [
    "for i in range(1,6):\n",
    "    for j in range(1,6):\n",
    "        if(i==3 or j==3):\n",
    "            print(\"*\",end=\" \")\n",
    "        else:\n",
    "            print(\" \",end=\" \")\n",
    "    print(\" \")"
   ]
  },
  {
   "cell_type": "code",
   "execution_count": 14,
   "metadata": {},
   "outputs": [
    {
     "name": "stdout",
     "output_type": "stream",
     "text": [
      "*       *  \n",
      "  *   *    \n",
      "    *      \n",
      "  *   *    \n",
      "*       *  \n"
     ]
    }
   ],
   "source": [
    "for i in range(1,6):\n",
    "    for j in range(1,6):\n",
    "        if(i==j):\n",
    "            print(\"*\", end=\" \")\n",
    "        elif(i+j==6):\n",
    "            print(\"*\", end=\" \")\n",
    "        else:\n",
    "            print(\" \",end=\" \")\n",
    "    print(\" \")"
   ]
  },
  {
   "cell_type": "code",
   "execution_count": 17,
   "metadata": {},
   "outputs": [
    {
     "name": "stdout",
     "output_type": "stream",
     "text": [
      "0 1 1 1 0  \n",
      "1 0 0 0 1  \n",
      "1 0 0 0 1  \n",
      "1 0 0 0 1  \n",
      "0 1 1 1 0  \n"
     ]
    }
   ],
   "source": [
    "for i in range(1,6):\n",
    "    for j in range(1,6):\n",
    "        if(i==1 or i==5) and (j==5 or j==1):\n",
    "            print(\"0\", end=\" \")\n",
    "        elif(i==1 or i==5 or j==1 or j==5):\n",
    "            print(\"1\", end=\" \")\n",
    "        else:\n",
    "            print(\"0\",end=\" \")\n",
    "    print(\" \")"
   ]
  },
  {
   "cell_type": "code",
   "execution_count": 18,
   "metadata": {},
   "outputs": [
    {
     "name": "stdout",
     "output_type": "stream",
     "text": [
      "1 2 3 4 5  \n",
      "2 3 4 5 6  \n",
      "3 4 5 6 7  \n",
      "4 5 6 7 8  \n",
      "5 6 7 8 9  \n"
     ]
    }
   ],
   "source": [
    "for i in range(1,6):\n",
    "    for j in range(1,6):\n",
    "        print((i+j)-1,end=\" \")\n",
    "    print(\" \")"
   ]
  },
  {
   "cell_type": "code",
   "execution_count": 21,
   "metadata": {},
   "outputs": [
    {
     "name": "stdout",
     "output_type": "stream",
     "text": [
      "1 1 1 1 1  \n",
      "1 1 1 1 1  \n",
      "1 1 0 1 1  \n",
      "1 1 1 1 1  \n",
      "1 1 1 1 1  \n"
     ]
    }
   ],
   "source": [
    "for i in range(1,6):\n",
    "    for j in range(1,6):\n",
    "            if(i==3 and j==3):\n",
    "                print(\"0\",end=\" \")\n",
    "            else:\n",
    "                print(\"1\",end=\" \")\n",
    "    print(\" \")"
   ]
  },
  {
   "cell_type": "code",
   "execution_count": 22,
   "metadata": {},
   "outputs": [
    {
     "name": "stdout",
     "output_type": "stream",
     "text": [
      "1 1 0 1 1  \n",
      "1 1 0 1 1  \n",
      "0 0 0 0 0  \n",
      "1 1 0 1 1  \n",
      "1 1 0 1 1  \n"
     ]
    }
   ],
   "source": [
    "for i in range(1,6):\n",
    "    for j in range(1,6):\n",
    "            if(i==3 or j==3):\n",
    "                print(\"0\",end=\" \")\n",
    "            else:\n",
    "                print(\"1\",end=\" \")\n",
    "    print(\" \")"
   ]
  },
  {
   "cell_type": "code",
   "execution_count": 32,
   "metadata": {},
   "outputs": [
    {
     "name": "stdout",
     "output_type": "stream",
     "text": [
      " \n",
      "5  \n",
      "5 4  \n",
      "5 4 3  \n"
     ]
    }
   ],
   "source": [
    "for i in range(5,1,-1):\n",
    "    for j in range(5,i,-1):\n",
    "        print(j,end=\" \")\n",
    "    print(\" \")"
   ]
  },
  {
   "cell_type": "code",
   "execution_count": 3,
   "metadata": {},
   "outputs": [
    {
     "name": "stdout",
     "output_type": "stream",
     "text": [
      "* * * * * * * * * * * * * * * \n"
     ]
    }
   ],
   "source": [
    "                    for i in range(1,6):\n",
    "                            for j in range(1,i+1):\n",
    "                                    print(\"*\", end=\" \")\n",
    "                    print()"
   ]
  },
  {
   "cell_type": "code",
   "execution_count": 6,
   "metadata": {},
   "outputs": [
    {
     "name": "stdout",
     "output_type": "stream",
     "text": [
      "* \n",
      "* * \n",
      "* * * \n",
      "* * * * \n",
      "* * * * * \n"
     ]
    }
   ],
   "source": [
    "for i in range(1,6):\n",
    "    for j in range(1,i+1):\n",
    "        print(\"*\", end=\" \")\n",
    "    print()"
   ]
  },
  {
   "cell_type": "code",
   "execution_count": 7,
   "metadata": {},
   "outputs": [
    {
     "name": "stdout",
     "output_type": "stream",
     "text": [
      "1 \n",
      "2 2 \n",
      "3 3 3 \n",
      "4 4 4 4 \n",
      "5 5 5 5 5 \n"
     ]
    }
   ],
   "source": [
    "for i in range(1,6):\n",
    "    for j in range(1,i+1):\n",
    "        print(i, end=\" \")\n",
    "    print()"
   ]
  },
  {
   "cell_type": "code",
   "execution_count": 17,
   "metadata": {},
   "outputs": [
    {
     "name": "stdout",
     "output_type": "stream",
     "text": [
      "_ _ _ _ * \n",
      "_ _ _ * * \n",
      "_ _ * * * \n",
      "_ * * * * \n",
      "* * * * * \n"
     ]
    }
   ],
   "source": [
    "for i in range(1,6):\n",
    "    for j in range(5,i,-1):\n",
    "        print(\"_\",end=\" \")\n",
    "    for r in range(1,i+1):\n",
    "        print(\"*\",end=\" \")\n",
    "    print()\n",
    "        "
   ]
  },
  {
   "cell_type": "code",
   "execution_count": 18,
   "metadata": {},
   "outputs": [
    {
     "name": "stdout",
     "output_type": "stream",
     "text": [
      "1 \n",
      "0 0 \n",
      "1 1 1 \n",
      "0 0 0 0 \n",
      "1 1 1 1 1 \n"
     ]
    }
   ],
   "source": [
    "for i in range(1,6):\n",
    "    for j in range(1,i+1):\n",
    "        if(i%2==0):\n",
    "            print(\"0\",end=\" \")\n",
    "        else:\n",
    "            print(\"1\",end=\" \")\n",
    "    print()"
   ]
  },
  {
   "cell_type": "code",
   "execution_count": 19,
   "metadata": {},
   "outputs": [
    {
     "name": "stdout",
     "output_type": "stream",
     "text": [
      "1 \n",
      "1 0 \n",
      "1 0 1 \n",
      "1 0 1 0 \n",
      "1 0 1 0 1 \n"
     ]
    }
   ],
   "source": [
    "for i in range(1,6):\n",
    "    for j in range(1,i+1):\n",
    "        if(j%2==0):\n",
    "            print(\"0\",end=\" \")\n",
    "        else:\n",
    "            print(\"1\",end=\" \")\n",
    "    print()"
   ]
  },
  {
   "cell_type": "code",
   "execution_count": 20,
   "metadata": {},
   "outputs": [
    {
     "name": "stdout",
     "output_type": "stream",
     "text": [
      "1 \n",
      "0 1 \n",
      "0 1 0 \n",
      "1 0 1 0 \n",
      "1 0 1 0 1 \n"
     ]
    }
   ],
   "source": [
    "c=0\n",
    "for i in range(1,6):\n",
    "    for j in range(1,i+1):\n",
    "        c=c+1\n",
    "        if(c%2==0):\n",
    "            print(\"0\",end=\" \")\n",
    "        else:\n",
    "            print(\"1\",end=\" \")\n",
    "    print()"
   ]
  },
  {
   "cell_type": "code",
   "execution_count": 29,
   "metadata": {},
   "outputs": [
    {
     "name": "stdout",
     "output_type": "stream",
     "text": [
      "1 \n",
      "2 4 \n",
      "1 3 5 \n",
      "2 4 6 8 \n",
      "1 3 5 7 9 \n"
     ]
    }
   ],
   "source": [
    "\n",
    "for i in range(1,6):\n",
    "    e=2\n",
    "    o=1\n",
    "    for j in range(1,i+1):\n",
    "        if(i%2==0):\n",
    "            print(e,end=\" \")\n",
    "            e=e+2\n",
    "        else:\n",
    "            print(o,end=\" \")\n",
    "            o=o+2\n",
    "    print()"
   ]
  },
  {
   "cell_type": "code",
   "execution_count": 34,
   "metadata": {},
   "outputs": [
    {
     "name": "stdout",
     "output_type": "stream",
     "text": [
      "1 \n",
      "1 3 \n",
      "1 3 5 \n",
      "1 3 5 7 \n",
      "1 3 5 7 9 \n"
     ]
    }
   ],
   "source": [
    "\n",
    "for i in range(1,6):\n",
    "    o=1\n",
    "    for j in range(1,i+1):\n",
    "            print(o,end=\" \")\n",
    "            o=o+2\n",
    "    print()"
   ]
  },
  {
   "cell_type": "code",
   "execution_count": null,
   "metadata": {},
   "outputs": [],
   "source": []
  }
 ],
 "metadata": {
  "kernelspec": {
   "display_name": "Python 3",
   "language": "python",
   "name": "python3"
  },
  "language_info": {
   "codemirror_mode": {
    "name": "ipython",
    "version": 3
   },
   "file_extension": ".py",
   "mimetype": "text/x-python",
   "name": "python",
   "nbconvert_exporter": "python",
   "pygments_lexer": "ipython3",
   "version": "3.7.6"
  }
 },
 "nbformat": 4,
 "nbformat_minor": 4
}
